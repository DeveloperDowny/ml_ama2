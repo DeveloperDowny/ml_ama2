{
 "cells": [
  {
   "cell_type": "code",
   "execution_count": 79,
   "metadata": {},
   "outputs": [],
   "source": [
    "import tensorflow as tf\n",
    "import numpy as np\n",
    "import pandas as pd\n",
    "import matplotlib.pyplot as plt\n",
    "import dfhelper as dfh\n",
    "import text_preproc as tp"
   ]
  },
  {
   "cell_type": "code",
   "execution_count": 80,
   "metadata": {},
   "outputs": [],
   "source": [
    "from transformers import AutoTokenizer, TFAutoModel"
   ]
  },
  {
   "cell_type": "code",
   "execution_count": 81,
   "metadata": {},
   "outputs": [
    {
     "data": {
      "text/plain": [
       "[PhysicalDevice(name='/physical_device:GPU:0', device_type='GPU')]"
      ]
     },
     "execution_count": 81,
     "metadata": {},
     "output_type": "execute_result"
    }
   ],
   "source": [
    "tf.config.list_physical_devices('GPU')\n"
   ]
  },
  {
   "cell_type": "code",
   "execution_count": 82,
   "metadata": {},
   "outputs": [],
   "source": [
    "pre_df = pd.read_pickle('dataset/train_df_v2.pkl')"
   ]
  },
  {
   "cell_type": "code",
   "execution_count": 83,
   "metadata": {},
   "outputs": [
    {
     "data": {
      "text/plain": [
       "(5000, 5)"
      ]
     },
     "execution_count": 83,
     "metadata": {},
     "output_type": "execute_result"
    }
   ],
   "source": [
    "pre_df.shape"
   ]
  },
  {
   "cell_type": "code",
   "execution_count": 84,
   "metadata": {},
   "outputs": [],
   "source": [
    "# # taking only first thousand entries\n",
    "# pre_df = pre_df[:1000]"
   ]
  },
  {
   "cell_type": "code",
   "execution_count": 85,
   "metadata": {},
   "outputs": [
    {
     "data": {
      "text/plain": [
       "(5000, 5)"
      ]
     },
     "execution_count": 85,
     "metadata": {},
     "output_type": "execute_result"
    }
   ],
   "source": [
    "pre_df.shape"
   ]
  },
  {
   "cell_type": "code",
   "execution_count": 86,
   "metadata": {},
   "outputs": [
    {
     "name": "stdout",
     "output_type": "stream",
     "text": [
      "0 TITLE | 1 BULLET_POINTS | 2 DESCRIPTION | 3 PRODUCT_TYPE_ID | 4 PRODUCT_LENGTH | "
     ]
    }
   ],
   "source": [
    "dfh.printColNames(pre_df)"
   ]
  },
  {
   "cell_type": "code",
   "execution_count": 87,
   "metadata": {},
   "outputs": [],
   "source": [
    "marr = pre_df.columns.values\n",
    "\n",
    "title = marr[0]\n",
    "bull_pt = marr[1]\n",
    "desc = marr[2]\n",
    "prod_type_id= marr[3]\n",
    "prod_len = marr[4]\n"
   ]
  },
  {
   "cell_type": "code",
   "execution_count": 88,
   "metadata": {},
   "outputs": [],
   "source": [
    "cpy_df = pre_df.copy()"
   ]
  },
  {
   "cell_type": "code",
   "execution_count": 89,
   "metadata": {},
   "outputs": [],
   "source": [
    "# pre_df = pre_df.reset_index()"
   ]
  },
  {
   "cell_type": "code",
   "execution_count": 90,
   "metadata": {},
   "outputs": [],
   "source": [
    "cpy_df = pd.get_dummies(pre_df, columns=[prod_type_id])"
   ]
  },
  {
   "cell_type": "code",
   "execution_count": 91,
   "metadata": {},
   "outputs": [
    {
     "data": {
      "text/plain": [
       "(5000, 1622)"
      ]
     },
     "execution_count": 91,
     "metadata": {},
     "output_type": "execute_result"
    }
   ],
   "source": [
    "cpy_df\n",
    "cpy_df.shape"
   ]
  },
  {
   "cell_type": "code",
   "execution_count": 92,
   "metadata": {},
   "outputs": [
    {
     "data": {
      "text/html": [
       "<div>\n",
       "<style scoped>\n",
       "    .dataframe tbody tr th:only-of-type {\n",
       "        vertical-align: middle;\n",
       "    }\n",
       "\n",
       "    .dataframe tbody tr th {\n",
       "        vertical-align: top;\n",
       "    }\n",
       "\n",
       "    .dataframe thead th {\n",
       "        text-align: right;\n",
       "    }\n",
       "</style>\n",
       "<table border=\"1\" class=\"dataframe\">\n",
       "  <thead>\n",
       "    <tr style=\"text-align: right;\">\n",
       "      <th></th>\n",
       "      <th>TITLE</th>\n",
       "      <th>BULLET_POINTS</th>\n",
       "      <th>DESCRIPTION</th>\n",
       "      <th>PRODUCT_TYPE_ID</th>\n",
       "      <th>PRODUCT_LENGTH</th>\n",
       "    </tr>\n",
       "  </thead>\n",
       "  <tbody>\n",
       "    <tr>\n",
       "      <th>1896156</th>\n",
       "      <td>Bildos 3Ply Non-Woven Fabric Disposable Surgic...</td>\n",
       "      <td>[Care Instructions: Non Washable,Mask Has 3 La...</td>\n",
       "      <td>Face masks may also be called isolation, laser...</td>\n",
       "      <td>12591</td>\n",
       "      <td>669.29</td>\n",
       "    </tr>\n",
       "    <tr>\n",
       "      <th>1715725</th>\n",
       "      <td>Negaor 10 PCS Interior Door Card Trim Panel Re...</td>\n",
       "      <td>[* Interior door card trim panel clips fastene...</td>\n",
       "      <td>Please check the Manufacturer Part Number and ...</td>\n",
       "      <td>7305</td>\n",
       "      <td>314.96</td>\n",
       "    </tr>\n",
       "    <tr>\n",
       "      <th>229576</th>\n",
       "      <td>Madden Girl Women's Domain Boot, Black Fabric,...</td>\n",
       "      <td>Chukka-inspired boot with four-eye lacing syst...</td>\n",
       "      <td>Suede wedge laceup bootie</td>\n",
       "      <td>3293</td>\n",
       "      <td>500.00</td>\n",
       "    </tr>\n",
       "    <tr>\n",
       "      <th>670308</th>\n",
       "      <td>Patel's Velocity perfume (60ml)(pack of 1)</td>\n",
       "      <td>[Long Lasting Fragrances,Made From Real and Na...</td>\n",
       "      <td>Patel's Velocity Perfume is Long Lasting Perfu...</td>\n",
       "      <td>254</td>\n",
       "      <td>157.48</td>\n",
       "    </tr>\n",
       "    <tr>\n",
       "      <th>945067</th>\n",
       "      <td>WorldCare® 1000W Car Power ply Output Socket U...</td>\n",
       "      <td>[New &amp; Imported Item,Delivers within 3 to 5 we...</td>\n",
       "      <td>WorldCare 1000W Car Power ply Output Socket US...</td>\n",
       "      <td>2087</td>\n",
       "      <td>590.55</td>\n",
       "    </tr>\n",
       "    <tr>\n",
       "      <th>...</th>\n",
       "      <td>...</td>\n",
       "      <td>...</td>\n",
       "      <td>...</td>\n",
       "      <td>...</td>\n",
       "      <td>...</td>\n",
       "    </tr>\n",
       "    <tr>\n",
       "      <th>165557</th>\n",
       "      <td>Meenu Arts Flash X Hazard Module, Blinker/Flas...</td>\n",
       "      <td>[Plug N Play, 60 Patterns, No Switch Requried,...</td>\n",
       "      <td>FLASHER</td>\n",
       "      <td>7989</td>\n",
       "      <td>787.40</td>\n",
       "    </tr>\n",
       "    <tr>\n",
       "      <th>1497881</th>\n",
       "      <td>Leveret Fleece Mens Sleep Pants Elephant Small</td>\n",
       "      <td>[100% Micro Fleece Polyester,All styles are ma...</td>\n",
       "      <td>You'll love these comfy fleece sleep pants fro...</td>\n",
       "      <td>2842</td>\n",
       "      <td>600.00</td>\n",
       "    </tr>\n",
       "    <tr>\n",
       "      <th>1511844</th>\n",
       "      <td>StaySoft Polarized Replacement Lenses for Oakl...</td>\n",
       "      <td>[Perfect Outdoor Goods - For golf, cycling, ru...</td>\n",
       "      <td>&lt;b&gt;Stay here, Keep Soft!&lt;/b&gt;&lt;br&gt;&lt;br&gt; That's St...</td>\n",
       "      <td>2799</td>\n",
       "      <td>400.00</td>\n",
       "    </tr>\n",
       "    <tr>\n",
       "      <th>189620</th>\n",
       "      <td>GRAFIQE Back Cover for ViVO Y20A V2052 Itachi ...</td>\n",
       "      <td>[GRAFIQE BACK COVER Great print Quality gives ...</td>\n",
       "      <td>Vivo Y20A Back Cover by GRAFIQE Stylish, Ultra...</td>\n",
       "      <td>12057</td>\n",
       "      <td>236.22</td>\n",
       "    </tr>\n",
       "    <tr>\n",
       "      <th>1504894</th>\n",
       "      <td>Crazy Dog Tshirts The Element of Surprise T Sh...</td>\n",
       "      <td>[Exclusive Crazy Dog T-shirt branded tee desig...</td>\n",
       "      <td>Be sure to get your daily dose of surprise...s...</td>\n",
       "      <td>2850</td>\n",
       "      <td>900.00</td>\n",
       "    </tr>\n",
       "  </tbody>\n",
       "</table>\n",
       "<p>1000 rows × 5 columns</p>\n",
       "</div>"
      ],
      "text/plain": [
       "                                                     TITLE  \\\n",
       "1896156  Bildos 3Ply Non-Woven Fabric Disposable Surgic...   \n",
       "1715725  Negaor 10 PCS Interior Door Card Trim Panel Re...   \n",
       "229576   Madden Girl Women's Domain Boot, Black Fabric,...   \n",
       "670308          Patel's Velocity perfume (60ml)(pack of 1)   \n",
       "945067   WorldCare® 1000W Car Power ply Output Socket U...   \n",
       "...                                                    ...   \n",
       "165557   Meenu Arts Flash X Hazard Module, Blinker/Flas...   \n",
       "1497881     Leveret Fleece Mens Sleep Pants Elephant Small   \n",
       "1511844  StaySoft Polarized Replacement Lenses for Oakl...   \n",
       "189620   GRAFIQE Back Cover for ViVO Y20A V2052 Itachi ...   \n",
       "1504894  Crazy Dog Tshirts The Element of Surprise T Sh...   \n",
       "\n",
       "                                             BULLET_POINTS  \\\n",
       "1896156  [Care Instructions: Non Washable,Mask Has 3 La...   \n",
       "1715725  [* Interior door card trim panel clips fastene...   \n",
       "229576   Chukka-inspired boot with four-eye lacing syst...   \n",
       "670308   [Long Lasting Fragrances,Made From Real and Na...   \n",
       "945067   [New & Imported Item,Delivers within 3 to 5 we...   \n",
       "...                                                    ...   \n",
       "165557   [Plug N Play, 60 Patterns, No Switch Requried,...   \n",
       "1497881  [100% Micro Fleece Polyester,All styles are ma...   \n",
       "1511844  [Perfect Outdoor Goods - For golf, cycling, ru...   \n",
       "189620   [GRAFIQE BACK COVER Great print Quality gives ...   \n",
       "1504894  [Exclusive Crazy Dog T-shirt branded tee desig...   \n",
       "\n",
       "                                               DESCRIPTION  PRODUCT_TYPE_ID  \\\n",
       "1896156  Face masks may also be called isolation, laser...            12591   \n",
       "1715725  Please check the Manufacturer Part Number and ...             7305   \n",
       "229576                           Suede wedge laceup bootie             3293   \n",
       "670308   Patel's Velocity Perfume is Long Lasting Perfu...              254   \n",
       "945067   WorldCare 1000W Car Power ply Output Socket US...             2087   \n",
       "...                                                    ...              ...   \n",
       "165557                                             FLASHER             7989   \n",
       "1497881  You'll love these comfy fleece sleep pants fro...             2842   \n",
       "1511844  <b>Stay here, Keep Soft!</b><br><br> That's St...             2799   \n",
       "189620   Vivo Y20A Back Cover by GRAFIQE Stylish, Ultra...            12057   \n",
       "1504894  Be sure to get your daily dose of surprise...s...             2850   \n",
       "\n",
       "         PRODUCT_LENGTH  \n",
       "1896156          669.29  \n",
       "1715725          314.96  \n",
       "229576           500.00  \n",
       "670308           157.48  \n",
       "945067           590.55  \n",
       "...                 ...  \n",
       "165557           787.40  \n",
       "1497881          600.00  \n",
       "1511844          400.00  \n",
       "189620           236.22  \n",
       "1504894          900.00  \n",
       "\n",
       "[1000 rows x 5 columns]"
      ]
     },
     "execution_count": 92,
     "metadata": {},
     "output_type": "execute_result"
    }
   ],
   "source": [
    "first_thousand = pre_df[:1000]\n",
    "first_thousand"
   ]
  },
  {
   "cell_type": "code",
   "execution_count": null,
   "metadata": {},
   "outputs": [],
   "source": []
  },
  {
   "cell_type": "code",
   "execution_count": 93,
   "metadata": {},
   "outputs": [],
   "source": [
    "import keyboard"
   ]
  },
  {
   "cell_type": "code",
   "execution_count": 94,
   "metadata": {},
   "outputs": [],
   "source": [
    "# for i in range(1000):\n",
    "#     print(pre_df.iloc[i][\"TITLE\"])\n",
    "#     keyboard.wait('/')"
   ]
  },
  {
   "cell_type": "code",
   "execution_count": 95,
   "metadata": {},
   "outputs": [],
   "source": [
    "mlist = []"
   ]
  },
  {
   "cell_type": "code",
   "execution_count": 96,
   "metadata": {},
   "outputs": [],
   "source": [
    "# mdf = pre_df.drop(columns=['BULLET_POINTS', 'DESCRIPTION', 'PRODUCT_LENGTH'])\n",
    "# mdf.head()"
   ]
  },
  {
   "cell_type": "code",
   "execution_count": 97,
   "metadata": {},
   "outputs": [],
   "source": [
    "mlist = []\n",
    "# back prop\n",
    "# we are obviously smart\n",
    "# let's see how we predict and the try to extract\n",
    "# print all with prod_len between 0 and 100\n",
    "def printCountInGivenRange(pre_df, inr, outr):\n",
    "    count = 0\n",
    "    # for i in range(pre_df.shape[0]):\n",
    "    for i in range(1000):\n",
    "        if pre_df.iloc[i][prod_len] <= outr and pre_df.iloc[i][prod_len] >= inr:\n",
    "            count += 1\n",
    "            print(i, pre_df.iloc[i][prod_len], pre_df.iloc[i][title])\n",
    "            mlist.append(i)\n",
    "            num = \"\"\n",
    "            for j in pre_df.columns.values:\n",
    "                if (\"id\" in j.lower()):\n",
    "                    num += str(pre_df.iloc[i][j]) + \" \"\n",
    "            print(num)\n",
    "                    \n",
    "\n"
   ]
  },
  {
   "cell_type": "code",
   "execution_count": 98,
   "metadata": {},
   "outputs": [],
   "source": [
    "# printCountInGivenRange(first_thousand, 0, 100)"
   ]
  },
  {
   "cell_type": "code",
   "execution_count": 99,
   "metadata": {},
   "outputs": [],
   "source": [
    "# printCountInGivenRange(first_thousand, 100, 200)"
   ]
  },
  {
   "cell_type": "code",
   "execution_count": 100,
   "metadata": {},
   "outputs": [],
   "source": [
    "# pre_df.max()"
   ]
  },
  {
   "cell_type": "code",
   "execution_count": 101,
   "metadata": {},
   "outputs": [],
   "source": [
    "# # test_mrow = pre_df[prod_len]\n",
    "# for i,v in first_thousand.iterrows():\n",
    "#     if (v[prod_len] == 1885801400.0):\n",
    "#         print(v[title])\n",
    "#         print(v)"
   ]
  },
  {
   "cell_type": "code",
   "execution_count": 102,
   "metadata": {},
   "outputs": [],
   "source": [
    "# simply put through lazy predict bus"
   ]
  },
  {
   "cell_type": "code",
   "execution_count": 103,
   "metadata": {},
   "outputs": [],
   "source": [
    "# # use cpy_df. First do splits and then use lazy predict\n",
    "# %pip install lazypredict"
   ]
  },
  {
   "cell_type": "code",
   "execution_count": 104,
   "metadata": {},
   "outputs": [],
   "source": [
    "# from lazypredict.Supervised import LazyClassifier\n",
    "# from sklearn.datasets import load_breast_cancer\n",
    "# from sklearn.model_selection import train_test_split\n",
    "\n",
    "# data = load_breast_cancer()\n",
    "# X = data.data\n",
    "# y= data.target\n",
    "\n",
    "# X_train, X_test, y_train, y_test = train_test_split(X, y,test_size=.5,random_state =123)\n",
    "\n",
    "# clf = LazyClassifier(verbose=0,ignore_warnings=True, custom_metric=None)\n",
    "# models,predictions = clf.fit(X_train, X_test, y_train, y_test)\n",
    "\n",
    "# print(models)"
   ]
  },
  {
   "cell_type": "code",
   "execution_count": 105,
   "metadata": {},
   "outputs": [],
   "source": [
    "# %pip install gensim"
   ]
  },
  {
   "cell_type": "code",
   "execution_count": 106,
   "metadata": {},
   "outputs": [],
   "source": [
    "# import pandas as pd\n",
    "# from sklearn.model_selection import train_test_split\n",
    "# import gensim\n",
    "# from lazypredict.Supervised import LazyClassifier"
   ]
  },
  {
   "cell_type": "code",
   "execution_count": 107,
   "metadata": {},
   "outputs": [],
   "source": [
    "# import re\n",
    "# import string\n",
    "# from nltk.tokenize import word_tokenize\n",
    "# from nltk.corpus import stopwords\n",
    "# from nltk.stem.wordnet import WordNetLemmatizer\n",
    "# import gensim\n",
    "\n",
    "# # Download the required NLTK resources\n",
    "# import nltk\n",
    "# nltk.download('punkt')\n",
    "# nltk.download('stopwords')\n",
    "# nltk.download('wordnet')\n",
    "\n",
    "# def preprocess_text(text):\n",
    "#     # Convert text to lowercase\n",
    "#     text = text.lower()\n",
    "\n",
    "#     # Remove numbers and punctuation\n",
    "#     text = re.sub(r'\\d+', '', text)\n",
    "#     text = text.translate(str.maketrans('', '', string.punctuation))\n",
    "\n",
    "#     # Tokenize text into words\n",
    "#     words = word_tokenize(text)\n",
    "\n",
    "#     # Remove stop words\n",
    "#     stop_words = set(stopwords.words('english'))\n",
    "#     words = [word for word in words if word not in stop_words]\n",
    "\n",
    "#     # Lemmatize words\n",
    "#     lem = WordNetLemmatizer()\n",
    "#     words = [lem.lemmatize(word, \"v\") for word in words]\n",
    "\n",
    "#     # Join words back into a sentence\n",
    "#     preprocessed_text = \" \".join(words)\n",
    "\n",
    "#     return preprocessed_text\n",
    "\n",
    "# # Example usage:\n",
    "# text = \"This is an example sentence. It will be used to demonstrate text preprocessing for Word2Vec.\"\n",
    "# preprocessed_text = preprocess_text(text)\n",
    "# print(preprocessed_text)"
   ]
  },
  {
   "cell_type": "code",
   "execution_count": 108,
   "metadata": {},
   "outputs": [],
   "source": [
    "# Load data\n",
    "# data = pd.read_csv('your_data.csv')\n",
    "data = cpy_df.copy()\n"
   ]
  },
  {
   "cell_type": "code",
   "execution_count": 109,
   "metadata": {},
   "outputs": [],
   "source": [
    "\n",
    "# # Load and prepare word embeddings\n",
    "# # w2v_model = Word2Vec.load('your_word_embeddings.model')\n",
    "# w2v_model = gensim.models.KeyedVectors.load_word2vec_format('models/GoogleNews-vectors-negative300.bin.gz', binary=True)\n"
   ]
  },
  {
   "cell_type": "code",
   "execution_count": 110,
   "metadata": {},
   "outputs": [],
   "source": [
    "# # maybe you need to pre process the data\n",
    "# # maybe you need to use ann and tensorflow instead of sklearn\n",
    "# m_word = X_train[title].values[0].split(\" \")[0]\n",
    "# print(m_word)"
   ]
  },
  {
   "cell_type": "code",
   "execution_count": 111,
   "metadata": {},
   "outputs": [],
   "source": [
    "# w2v_model\n",
    "# word = 'king'\n",
    "# vector = w2v_model[m_word]\n",
    "# print(vector)"
   ]
  },
  {
   "cell_type": "code",
   "execution_count": null,
   "metadata": {},
   "outputs": [],
   "source": []
  },
  {
   "cell_type": "code",
   "execution_count": 112,
   "metadata": {},
   "outputs": [],
   "source": [
    "# %pip install transformers"
   ]
  },
  {
   "cell_type": "code",
   "execution_count": 113,
   "metadata": {},
   "outputs": [
    {
     "name": "stderr",
     "output_type": "stream",
     "text": [
      "Some layers from the model checkpoint at bert-base-uncased were not used when initializing TFBertModel: ['nsp___cls', 'mlm___cls']\n",
      "- This IS expected if you are initializing TFBertModel from the checkpoint of a model trained on another task or with another architecture (e.g. initializing a BertForSequenceClassification model from a BertForPreTraining model).\n",
      "- This IS NOT expected if you are initializing TFBertModel from the checkpoint of a model that you expect to be exactly identical (initializing a BertForSequenceClassification model from a BertForSequenceClassification model).\n",
      "All the layers of TFBertModel were initialized from the model checkpoint at bert-base-uncased.\n",
      "If your task is similar to the task the model of the checkpoint was trained on, you can already use TFBertModel for predictions without further training.\n"
     ]
    }
   ],
   "source": [
    "# Load pre-trained model and tokenizer\n",
    "model_name = 'bert-base-uncased'\n",
    "tokenizer = AutoTokenizer.from_pretrained(model_name)\n",
    "model = TFAutoModel.from_pretrained(model_name)\n",
    "\n",
    "# (batch_size, sequence_length, hidden_size) token ka embedding\n"
   ]
  },
  {
   "cell_type": "code",
   "execution_count": 114,
   "metadata": {},
   "outputs": [],
   "source": [
    "\n",
    "# # Tokenize input text and convert to TensorFlow tensors\n",
    "# # text = \"This is an example sentence.\"\n",
    "# text = \"This is an example sentence. Tokenize input text and convert to TensorFlow tensors \"\n",
    "# # inputs = tokenizer(text, return_tensors='tf')\n",
    "# inputs = tokenizer(text, return_tensors='tf', max_length=512, truncation=True)\n",
    "# # inputs = tokenizer(text)\n",
    "\n",
    "# # Pass input through the model to get the output vector\n",
    "# # outputs = model(inputs)[0]\n",
    "# outputs = model(inputs)\n",
    "\n",
    "# # Print the output vector\n",
    "# print(outputs[0])"
   ]
  },
  {
   "cell_type": "code",
   "execution_count": null,
   "metadata": {},
   "outputs": [],
   "source": []
  },
  {
   "cell_type": "code",
   "execution_count": 115,
   "metadata": {},
   "outputs": [],
   "source": [
    "# # Example list of texts\n",
    "# # texts = ['This is the first text.', 'This is the second text.', 'This is the third text.']\n",
    "# texts = [\"HACASO - The Princess Sleeps Here- Pink Wall Decal Girl's Bedroom Decor\", 'PINKCITY CREATION Handmade Showpieces Figurine Fluorite Stone Religious Idol Ganesha 5 cm.', 'Lovely Furniture Floating Mounted Cube Shape Wall Shelves Set of 4 (Black)']\n",
    "\n",
    "# # Tokenize the texts\n",
    "# # tokenized_texts = tokenizer(texts, padding=True, truncation=True, return_tensors='tf', max_length=512)\n",
    "# tokenized_texts = tokenizer(texts, padding=True, truncation=True, return_tensors='tf', max_length=512)\n",
    "# outputs = model(inputs)\n",
    "# # Print the tokenized texts\n",
    "# print(outputs)"
   ]
  },
  {
   "cell_type": "code",
   "execution_count": 116,
   "metadata": {},
   "outputs": [],
   "source": [
    "# # text = X_train[title].values[0]\n",
    "# text = X_train[title].values[0:3].tolist()\n",
    "# print(type(text))\n",
    "# print(text)\n"
   ]
  },
  {
   "cell_type": "code",
   "execution_count": 117,
   "metadata": {},
   "outputs": [],
   "source": [
    "# # inputs = tokenizer(text, return_tensors='tf')\n",
    "# inputs = tokenizer(text, return_tensors='tf', padding=True, truncation=True, max_length=512)\n",
    "# # inputs = tokenizer(text)\n",
    "\n",
    "# # Pass input through the model to get the output vector\n",
    "# outputs = model(inputs)\n",
    "\n",
    "# # Print the output vector\n",
    "# print(outputs[0])"
   ]
  },
  {
   "cell_type": "code",
   "execution_count": 118,
   "metadata": {},
   "outputs": [],
   "source": [
    "# # Convert output tensor to numpy array\n",
    "# output_array = outputs.numpy()\n",
    "\n",
    "# # Flatten and reshape the output array to match sklearn input format\n",
    "# output_array = output_array.flatten().reshape(1, -1)\n",
    "\n",
    "# # Print the output array\n",
    "# print(output_array)\n",
    "# output_array.shape"
   ]
  },
  {
   "cell_type": "code",
   "execution_count": 119,
   "metadata": {},
   "outputs": [],
   "source": [
    "\n",
    "# msent = preprocess_text(msent)\n",
    "# print(msent)\n",
    "# msent = msent.split(\" \")\n",
    "# print(msent)\n",
    "# # msent = [w2v_model[w] for w in msent]\n",
    "# msent2 = []\n",
    "# for i in msent:\n",
    "#     try:\n",
    "#         msent2.append(w2v_model[i])\n",
    "#     except Exception as e:\n",
    "#         print(e)\n",
    "#         print(i)\n",
    "\n",
    "# print(msent2)"
   ]
  },
  {
   "cell_type": "code",
   "execution_count": 120,
   "metadata": {},
   "outputs": [],
   "source": [
    "\n",
    "# msent = preprocess_text(msent)\n",
    "# print(msent)\n",
    "# msent = msent.split(\" \")\n",
    "# print(msent)\n",
    "# # msent = [w2v_model[w] for w in msent]\n",
    "# msent2 = []\n",
    "# for i in msent:\n",
    "#     try:\n",
    "#         msent2.append(w2v_model[i])\n",
    "#     except Exception as e:\n",
    "#         print(e)\n",
    "#         print(i)\n",
    "\n",
    "# print(msent2)"
   ]
  },
  {
   "cell_type": "code",
   "execution_count": 121,
   "metadata": {},
   "outputs": [],
   "source": [
    "def mtokenize3(text):\n",
    "    inputs = tokenizer(text, padding=True, truncation=True, return_tensors='tf', max_length=512)\n",
    "    outputs = model(inputs)\n",
    "    \n",
    "    # print(outputs.pooler_output)\n",
    "    # print(outputs.last_hidden_state)\n",
    "    # contextual_embeddings, pooled_output = outputs\n",
    "\n",
    "  \n",
    "    return outputs.pooler_output"
   ]
  },
  {
   "cell_type": "code",
   "execution_count": 122,
   "metadata": {},
   "outputs": [],
   "source": [
    "\n",
    "# X_train_embeddings = [w2v_model.wv[word] for word in X_train[title]]\n",
    "# X_test_embeddings = [w2v_model.wv[word] for word in X_test[title]]\n"
   ]
  },
  {
   "cell_type": "code",
   "execution_count": 123,
   "metadata": {},
   "outputs": [],
   "source": [
    "# importing train_test_split\n",
    "from sklearn.model_selection import train_test_split"
   ]
  },
  {
   "cell_type": "code",
   "execution_count": 124,
   "metadata": {},
   "outputs": [],
   "source": [
    "data[title] = data[title] + \" \" + data[desc] + \" \" + data[bull_pt]\n"
   ]
  },
  {
   "cell_type": "code",
   "execution_count": 125,
   "metadata": {},
   "outputs": [
    {
     "data": {
      "text/plain": [
       "'Bildos 3Ply Non-Woven Fabric Disposable Surgical Dust Mask With Nose Clip Maximum Protection (Blue, Without Valve, Pack of 200) for Unisex Face masks may also be called isolation, laser, dental masks. Face masks are loose-fitting masks that wrap the nose and mouth and have ear loops or ties or bands at the back of the head. Masks for face help limit the spread of particles. When someone talks, coughs or sneezes they may discharge tiny drops into the air that can harm others. If someone is ill face masks can decrease the number of particles that the wearer releases and can protect other people. A face mask also protects the wearer’s nose and mouth from splash or sprays of fluids. This three layer face mask comes in blue color. [Care Instructions: Non Washable,Mask Has 3 Layer Outer, Middle and Inner || Outer Layer is Water Resistant Layer Which Helps to Block Outside Droplet || Middle Layer is Filtration Layer Which Block Germs, Bacteria, Pollution, Dust etc || Inner Layer is Skin Friendly Layer Which Observe Inside Moisture,Nosewire Clip for Perfect Face-Fit & Maximum Protection,Comfortable and Breathable.,One-time use & safe to dispose]'"
      ]
     },
     "execution_count": 125,
     "metadata": {},
     "output_type": "execute_result"
    }
   ],
   "source": [
    "data[title].values[0]\n",
    "# data[bull_pt].values[0]"
   ]
  },
  {
   "cell_type": "code",
   "execution_count": 126,
   "metadata": {},
   "outputs": [],
   "source": [
    "data = data.drop(columns=[desc, bull_pt])"
   ]
  },
  {
   "cell_type": "code",
   "execution_count": 127,
   "metadata": {},
   "outputs": [
    {
     "data": {
      "text/html": [
       "<div>\n",
       "<style scoped>\n",
       "    .dataframe tbody tr th:only-of-type {\n",
       "        vertical-align: middle;\n",
       "    }\n",
       "\n",
       "    .dataframe tbody tr th {\n",
       "        vertical-align: top;\n",
       "    }\n",
       "\n",
       "    .dataframe thead th {\n",
       "        text-align: right;\n",
       "    }\n",
       "</style>\n",
       "<table border=\"1\" class=\"dataframe\">\n",
       "  <thead>\n",
       "    <tr style=\"text-align: right;\">\n",
       "      <th></th>\n",
       "      <th>TITLE</th>\n",
       "      <th>PRODUCT_LENGTH</th>\n",
       "      <th>PRODUCT_TYPE_ID_0</th>\n",
       "      <th>PRODUCT_TYPE_ID_1</th>\n",
       "      <th>PRODUCT_TYPE_ID_2</th>\n",
       "      <th>PRODUCT_TYPE_ID_4</th>\n",
       "      <th>PRODUCT_TYPE_ID_5</th>\n",
       "      <th>PRODUCT_TYPE_ID_6</th>\n",
       "      <th>PRODUCT_TYPE_ID_17</th>\n",
       "      <th>PRODUCT_TYPE_ID_55</th>\n",
       "      <th>...</th>\n",
       "      <th>PRODUCT_TYPE_ID_13248</th>\n",
       "      <th>PRODUCT_TYPE_ID_13279</th>\n",
       "      <th>PRODUCT_TYPE_ID_13280</th>\n",
       "      <th>PRODUCT_TYPE_ID_13290</th>\n",
       "      <th>PRODUCT_TYPE_ID_13294</th>\n",
       "      <th>PRODUCT_TYPE_ID_13343</th>\n",
       "      <th>PRODUCT_TYPE_ID_13346</th>\n",
       "      <th>PRODUCT_TYPE_ID_13347</th>\n",
       "      <th>PRODUCT_TYPE_ID_13368</th>\n",
       "      <th>PRODUCT_TYPE_ID_13414</th>\n",
       "    </tr>\n",
       "  </thead>\n",
       "  <tbody>\n",
       "    <tr>\n",
       "      <th>1896156</th>\n",
       "      <td>Bildos 3Ply Non-Woven Fabric Disposable Surgic...</td>\n",
       "      <td>669.29</td>\n",
       "      <td>0</td>\n",
       "      <td>0</td>\n",
       "      <td>0</td>\n",
       "      <td>0</td>\n",
       "      <td>0</td>\n",
       "      <td>0</td>\n",
       "      <td>0</td>\n",
       "      <td>0</td>\n",
       "      <td>...</td>\n",
       "      <td>0</td>\n",
       "      <td>0</td>\n",
       "      <td>0</td>\n",
       "      <td>0</td>\n",
       "      <td>0</td>\n",
       "      <td>0</td>\n",
       "      <td>0</td>\n",
       "      <td>0</td>\n",
       "      <td>0</td>\n",
       "      <td>0</td>\n",
       "    </tr>\n",
       "    <tr>\n",
       "      <th>1715725</th>\n",
       "      <td>Negaor 10 PCS Interior Door Card Trim Panel Re...</td>\n",
       "      <td>314.96</td>\n",
       "      <td>0</td>\n",
       "      <td>0</td>\n",
       "      <td>0</td>\n",
       "      <td>0</td>\n",
       "      <td>0</td>\n",
       "      <td>0</td>\n",
       "      <td>0</td>\n",
       "      <td>0</td>\n",
       "      <td>...</td>\n",
       "      <td>0</td>\n",
       "      <td>0</td>\n",
       "      <td>0</td>\n",
       "      <td>0</td>\n",
       "      <td>0</td>\n",
       "      <td>0</td>\n",
       "      <td>0</td>\n",
       "      <td>0</td>\n",
       "      <td>0</td>\n",
       "      <td>0</td>\n",
       "    </tr>\n",
       "    <tr>\n",
       "      <th>229576</th>\n",
       "      <td>Madden Girl Women's Domain Boot, Black Fabric,...</td>\n",
       "      <td>500.00</td>\n",
       "      <td>0</td>\n",
       "      <td>0</td>\n",
       "      <td>0</td>\n",
       "      <td>0</td>\n",
       "      <td>0</td>\n",
       "      <td>0</td>\n",
       "      <td>0</td>\n",
       "      <td>0</td>\n",
       "      <td>...</td>\n",
       "      <td>0</td>\n",
       "      <td>0</td>\n",
       "      <td>0</td>\n",
       "      <td>0</td>\n",
       "      <td>0</td>\n",
       "      <td>0</td>\n",
       "      <td>0</td>\n",
       "      <td>0</td>\n",
       "      <td>0</td>\n",
       "      <td>0</td>\n",
       "    </tr>\n",
       "    <tr>\n",
       "      <th>670308</th>\n",
       "      <td>Patel's Velocity perfume (60ml)(pack of 1) Pat...</td>\n",
       "      <td>157.48</td>\n",
       "      <td>0</td>\n",
       "      <td>0</td>\n",
       "      <td>0</td>\n",
       "      <td>0</td>\n",
       "      <td>0</td>\n",
       "      <td>0</td>\n",
       "      <td>0</td>\n",
       "      <td>0</td>\n",
       "      <td>...</td>\n",
       "      <td>0</td>\n",
       "      <td>0</td>\n",
       "      <td>0</td>\n",
       "      <td>0</td>\n",
       "      <td>0</td>\n",
       "      <td>0</td>\n",
       "      <td>0</td>\n",
       "      <td>0</td>\n",
       "      <td>0</td>\n",
       "      <td>0</td>\n",
       "    </tr>\n",
       "    <tr>\n",
       "      <th>945067</th>\n",
       "      <td>WorldCare® 1000W Car Power ply Output Socket U...</td>\n",
       "      <td>590.55</td>\n",
       "      <td>0</td>\n",
       "      <td>0</td>\n",
       "      <td>0</td>\n",
       "      <td>0</td>\n",
       "      <td>0</td>\n",
       "      <td>0</td>\n",
       "      <td>0</td>\n",
       "      <td>0</td>\n",
       "      <td>...</td>\n",
       "      <td>0</td>\n",
       "      <td>0</td>\n",
       "      <td>0</td>\n",
       "      <td>0</td>\n",
       "      <td>0</td>\n",
       "      <td>0</td>\n",
       "      <td>0</td>\n",
       "      <td>0</td>\n",
       "      <td>0</td>\n",
       "      <td>0</td>\n",
       "    </tr>\n",
       "  </tbody>\n",
       "</table>\n",
       "<p>5 rows × 1620 columns</p>\n",
       "</div>"
      ],
      "text/plain": [
       "                                                     TITLE  PRODUCT_LENGTH  \\\n",
       "1896156  Bildos 3Ply Non-Woven Fabric Disposable Surgic...          669.29   \n",
       "1715725  Negaor 10 PCS Interior Door Card Trim Panel Re...          314.96   \n",
       "229576   Madden Girl Women's Domain Boot, Black Fabric,...          500.00   \n",
       "670308   Patel's Velocity perfume (60ml)(pack of 1) Pat...          157.48   \n",
       "945067   WorldCare® 1000W Car Power ply Output Socket U...          590.55   \n",
       "\n",
       "         PRODUCT_TYPE_ID_0  PRODUCT_TYPE_ID_1  PRODUCT_TYPE_ID_2  \\\n",
       "1896156                  0                  0                  0   \n",
       "1715725                  0                  0                  0   \n",
       "229576                   0                  0                  0   \n",
       "670308                   0                  0                  0   \n",
       "945067                   0                  0                  0   \n",
       "\n",
       "         PRODUCT_TYPE_ID_4  PRODUCT_TYPE_ID_5  PRODUCT_TYPE_ID_6  \\\n",
       "1896156                  0                  0                  0   \n",
       "1715725                  0                  0                  0   \n",
       "229576                   0                  0                  0   \n",
       "670308                   0                  0                  0   \n",
       "945067                   0                  0                  0   \n",
       "\n",
       "         PRODUCT_TYPE_ID_17  PRODUCT_TYPE_ID_55  ...  PRODUCT_TYPE_ID_13248  \\\n",
       "1896156                   0                   0  ...                      0   \n",
       "1715725                   0                   0  ...                      0   \n",
       "229576                    0                   0  ...                      0   \n",
       "670308                    0                   0  ...                      0   \n",
       "945067                    0                   0  ...                      0   \n",
       "\n",
       "         PRODUCT_TYPE_ID_13279  PRODUCT_TYPE_ID_13280  PRODUCT_TYPE_ID_13290  \\\n",
       "1896156                      0                      0                      0   \n",
       "1715725                      0                      0                      0   \n",
       "229576                       0                      0                      0   \n",
       "670308                       0                      0                      0   \n",
       "945067                       0                      0                      0   \n",
       "\n",
       "         PRODUCT_TYPE_ID_13294  PRODUCT_TYPE_ID_13343  PRODUCT_TYPE_ID_13346  \\\n",
       "1896156                      0                      0                      0   \n",
       "1715725                      0                      0                      0   \n",
       "229576                       0                      0                      0   \n",
       "670308                       0                      0                      0   \n",
       "945067                       0                      0                      0   \n",
       "\n",
       "         PRODUCT_TYPE_ID_13347  PRODUCT_TYPE_ID_13368  PRODUCT_TYPE_ID_13414  \n",
       "1896156                      0                      0                      0  \n",
       "1715725                      0                      0                      0  \n",
       "229576                       0                      0                      0  \n",
       "670308                       0                      0                      0  \n",
       "945067                       0                      0                      0  \n",
       "\n",
       "[5 rows x 1620 columns]"
      ]
     },
     "execution_count": 127,
     "metadata": {},
     "output_type": "execute_result"
    }
   ],
   "source": [
    "data.head()"
   ]
  },
  {
   "cell_type": "code",
   "execution_count": 128,
   "metadata": {},
   "outputs": [],
   "source": [
    "# X_train[title] = X_train[title] + \" \" + X_train[desc] + \" \" + X_train[bull_pt]\n",
    "# print(X_train[title].values[0])"
   ]
  },
  {
   "cell_type": "code",
   "execution_count": 129,
   "metadata": {},
   "outputs": [],
   "source": [
    "# # Example input text\n",
    "# input_text = X_train[title].values.tolist()\n",
    "\n",
    "# # Convert each sentence to tokens and input IDs\n",
    "# input_ids = []\n",
    "# for text in input_text:\n",
    "#     # tokens = tokenizer.tokenize(text)\n",
    "#     tokens = tokenizer.tokenize(text, padding=True, truncation=True, return_tensors='tf', max_length=512)\n",
    "#     ids = tokenizer.convert_tokens_to_ids(tokens)\n",
    "#     input_ids.append(ids)\n",
    "\n",
    "# # Create a `tf.data.Dataset` object to feed the input data to the model\n",
    "# input_ids = tf.keras.preprocessing.sequence.pad_sequences(input_ids, maxlen=128, padding='post', truncating='post')\n",
    "# dataset = tf.data.Dataset.from_tensor_slices((input_ids,))\n",
    "# dataset = dataset.batch(2)"
   ]
  },
  {
   "cell_type": "code",
   "execution_count": null,
   "metadata": {},
   "outputs": [],
   "source": []
  },
  {
   "cell_type": "code",
   "execution_count": 130,
   "metadata": {},
   "outputs": [],
   "source": [
    "# # Pass the input data through the pre-trained model to get the embeddings\n",
    "# all_embeddings = []\n",
    "# for batch in dataset:\n",
    "#     with tf.device('/GPU:0'):\n",
    "#         outputs = model(batch)\n",
    "#         embeddings = outputs.pooler_output\n",
    "#         all_embeddings.append(embeddings.numpy())\n",
    "\n",
    "# # Concatenate the embeddings for all the batches\n",
    "# all_embeddings = np.concatenate(all_embeddings, axis=0)"
   ]
  },
  {
   "cell_type": "code",
   "execution_count": 131,
   "metadata": {},
   "outputs": [],
   "source": [
    "# # Pass the input data through the pre-trained model to get the embeddings\n",
    "# all_embeddings = []\n",
    "# for batch in dataset:\n",
    "#     # with tf.device('/GPU:0'):\n",
    "#     outputs = model(batch)\n",
    "#     embeddings = outputs.pooler_output\n",
    "#     all_embeddings.append(embeddings.numpy())\n",
    "\n",
    "# # Concatenate the embeddings for all the batches\n",
    "# all_embeddings = np.concatenate(all_embeddings, axis=0)"
   ]
  },
  {
   "cell_type": "code",
   "execution_count": 132,
   "metadata": {},
   "outputs": [],
   "source": [
    "# all_embeddings.shape"
   ]
  },
  {
   "cell_type": "code",
   "execution_count": 133,
   "metadata": {},
   "outputs": [],
   "source": [
    "# all_embeddings[0]"
   ]
  },
  {
   "cell_type": "code",
   "execution_count": 134,
   "metadata": {},
   "outputs": [],
   "source": [
    "# # Pass the input data through the pre-trained model to get the embeddings\n",
    "# for batch in dataset:\n",
    "#     with tf.device('/GPU:0'):\n",
    "#         outputs = model(batch)\n",
    "#         embeddings = outputs.last_hidden_state\n",
    "#         pooled_output = outputs.pooler_output"
   ]
  },
  {
   "cell_type": "code",
   "execution_count": 135,
   "metadata": {},
   "outputs": [],
   "source": [
    "# outputs"
   ]
  },
  {
   "cell_type": "code",
   "execution_count": 136,
   "metadata": {},
   "outputs": [],
   "source": [
    "# embeddings.shape"
   ]
  },
  {
   "cell_type": "code",
   "execution_count": 137,
   "metadata": {},
   "outputs": [],
   "source": [
    "# tokens = tokenizer.tokenize(input_text)\n",
    "# input_ids = tokenizer.convert_tokens_to_ids(tokens)\n",
    "# # Create a `tf.data.Dataset` object to feed the input data to the model\n",
    "# input_ids = tf.expand_dims(input_ids, axis=0)\n",
    "# dataset = tf.data.Dataset.from_tensor_slices((input_ids,))\n",
    "# dataset = dataset.batch(1)\n",
    "# for batch in dataset:\n",
    "#     with tf.device('/GPU:0'):\n",
    "#         outputs = model(batch)\n",
    "#         embeddings = outputs.last_hidden_state\n",
    "#         pooled_output = outputs.pooler_output"
   ]
  },
  {
   "cell_type": "code",
   "execution_count": 138,
   "metadata": {},
   "outputs": [],
   "source": [
    "# same_1 = mtokenize3(X_train[title].values[0])"
   ]
  },
  {
   "cell_type": "code",
   "execution_count": 139,
   "metadata": {},
   "outputs": [],
   "source": [
    "# embedding1 = X_train_embeddings[0]\n",
    "# embedding2 = all_embeddings[0]\n",
    "\n",
    "# # Compute the cosine similarity between the embeddings\n",
    "# cosine_similarities = tf.keras.losses.cosine_similarity(embedding1, embedding2)\n",
    "\n",
    "# # Get the distance between the embeddings by subtracting the cosine similarity from 1\n",
    "# distance = 1 - cosine_similarities\n",
    "\n",
    "# print(distance)"
   ]
  },
  {
   "cell_type": "code",
   "execution_count": 140,
   "metadata": {},
   "outputs": [],
   "source": [
    "\n",
    "# X_train_embeddings = [mtokenize3(word) for word in X_train[title]]\n",
    "# X_test_embeddings = [mtokenize3(word) for word in X_test[title]]\n"
   ]
  },
  {
   "cell_type": "code",
   "execution_count": 141,
   "metadata": {},
   "outputs": [],
   "source": [
    "\n",
    "X_train_embeddings = []\n",
    "X_test_embeddings = []\n",
    "X_whole = []\n"
   ]
  },
  {
   "cell_type": "code",
   "execution_count": 142,
   "metadata": {},
   "outputs": [],
   "source": [
    "for i in data[title]:\n",
    "    X_whole.append(mtokenize3(i))"
   ]
  },
  {
   "cell_type": "code",
   "execution_count": 143,
   "metadata": {},
   "outputs": [],
   "source": [
    "X_whole = np.array(X_whole)"
   ]
  },
  {
   "cell_type": "code",
   "execution_count": 144,
   "metadata": {},
   "outputs": [
    {
     "data": {
      "text/plain": [
       "(5000, 1, 768)"
      ]
     },
     "execution_count": 144,
     "metadata": {},
     "output_type": "execute_result"
    }
   ],
   "source": [
    "X_whole.shape"
   ]
  },
  {
   "cell_type": "code",
   "execution_count": 146,
   "metadata": {},
   "outputs": [
    {
     "data": {
      "text/html": [
       "<div>\n",
       "<style scoped>\n",
       "    .dataframe tbody tr th:only-of-type {\n",
       "        vertical-align: middle;\n",
       "    }\n",
       "\n",
       "    .dataframe tbody tr th {\n",
       "        vertical-align: top;\n",
       "    }\n",
       "\n",
       "    .dataframe thead th {\n",
       "        text-align: right;\n",
       "    }\n",
       "</style>\n",
       "<table border=\"1\" class=\"dataframe\">\n",
       "  <thead>\n",
       "    <tr style=\"text-align: right;\">\n",
       "      <th></th>\n",
       "      <th>0</th>\n",
       "      <th>1</th>\n",
       "      <th>2</th>\n",
       "      <th>3</th>\n",
       "      <th>4</th>\n",
       "      <th>5</th>\n",
       "      <th>6</th>\n",
       "      <th>7</th>\n",
       "      <th>8</th>\n",
       "      <th>9</th>\n",
       "      <th>...</th>\n",
       "      <th>2380</th>\n",
       "      <th>2381</th>\n",
       "      <th>2382</th>\n",
       "      <th>2383</th>\n",
       "      <th>2384</th>\n",
       "      <th>2385</th>\n",
       "      <th>2386</th>\n",
       "      <th>2387</th>\n",
       "      <th>2388</th>\n",
       "      <th>2389</th>\n",
       "    </tr>\n",
       "  </thead>\n",
       "  <tbody>\n",
       "    <tr>\n",
       "      <th>0</th>\n",
       "      <td>1896156</td>\n",
       "      <td>Bildos 3Ply Non-Woven Fabric Disposable Surgic...</td>\n",
       "      <td>669.29</td>\n",
       "      <td>0</td>\n",
       "      <td>0</td>\n",
       "      <td>0</td>\n",
       "      <td>0</td>\n",
       "      <td>0</td>\n",
       "      <td>0</td>\n",
       "      <td>0</td>\n",
       "      <td>...</td>\n",
       "      <td>0.68</td>\n",
       "      <td>0.04</td>\n",
       "      <td>0.84</td>\n",
       "      <td>0.10</td>\n",
       "      <td>-0.09</td>\n",
       "      <td>-0.36</td>\n",
       "      <td>0.71</td>\n",
       "      <td>-0.94</td>\n",
       "      <td>-0.54</td>\n",
       "      <td>0.28</td>\n",
       "    </tr>\n",
       "    <tr>\n",
       "      <th>1</th>\n",
       "      <td>1715725</td>\n",
       "      <td>Negaor 10 PCS Interior Door Card Trim Panel Re...</td>\n",
       "      <td>314.96</td>\n",
       "      <td>0</td>\n",
       "      <td>0</td>\n",
       "      <td>0</td>\n",
       "      <td>0</td>\n",
       "      <td>0</td>\n",
       "      <td>0</td>\n",
       "      <td>0</td>\n",
       "      <td>...</td>\n",
       "      <td>0.88</td>\n",
       "      <td>-0.94</td>\n",
       "      <td>0.99</td>\n",
       "      <td>0.41</td>\n",
       "      <td>-0.85</td>\n",
       "      <td>-0.46</td>\n",
       "      <td>0.92</td>\n",
       "      <td>-0.96</td>\n",
       "      <td>-0.79</td>\n",
       "      <td>0.53</td>\n",
       "    </tr>\n",
       "    <tr>\n",
       "      <th>2</th>\n",
       "      <td>229576</td>\n",
       "      <td>Madden Girl Women's Domain Boot, Black Fabric,...</td>\n",
       "      <td>500.00</td>\n",
       "      <td>0</td>\n",
       "      <td>0</td>\n",
       "      <td>0</td>\n",
       "      <td>0</td>\n",
       "      <td>0</td>\n",
       "      <td>0</td>\n",
       "      <td>0</td>\n",
       "      <td>...</td>\n",
       "      <td>0.56</td>\n",
       "      <td>-0.73</td>\n",
       "      <td>0.98</td>\n",
       "      <td>0.74</td>\n",
       "      <td>-0.66</td>\n",
       "      <td>-0.01</td>\n",
       "      <td>0.69</td>\n",
       "      <td>-0.92</td>\n",
       "      <td>-0.72</td>\n",
       "      <td>0.73</td>\n",
       "    </tr>\n",
       "    <tr>\n",
       "      <th>3</th>\n",
       "      <td>670308</td>\n",
       "      <td>Patel's Velocity perfume (60ml)(pack of 1) Pat...</td>\n",
       "      <td>157.48</td>\n",
       "      <td>0</td>\n",
       "      <td>0</td>\n",
       "      <td>0</td>\n",
       "      <td>0</td>\n",
       "      <td>0</td>\n",
       "      <td>0</td>\n",
       "      <td>0</td>\n",
       "      <td>...</td>\n",
       "      <td>0.63</td>\n",
       "      <td>-0.40</td>\n",
       "      <td>0.96</td>\n",
       "      <td>0.59</td>\n",
       "      <td>-0.55</td>\n",
       "      <td>-0.03</td>\n",
       "      <td>0.73</td>\n",
       "      <td>-0.92</td>\n",
       "      <td>-0.65</td>\n",
       "      <td>0.42</td>\n",
       "    </tr>\n",
       "    <tr>\n",
       "      <th>4</th>\n",
       "      <td>945067</td>\n",
       "      <td>WorldCare® 1000W Car Power ply Output Socket U...</td>\n",
       "      <td>590.55</td>\n",
       "      <td>0</td>\n",
       "      <td>0</td>\n",
       "      <td>0</td>\n",
       "      <td>0</td>\n",
       "      <td>0</td>\n",
       "      <td>0</td>\n",
       "      <td>0</td>\n",
       "      <td>...</td>\n",
       "      <td>0.53</td>\n",
       "      <td>-0.64</td>\n",
       "      <td>0.99</td>\n",
       "      <td>0.57</td>\n",
       "      <td>-0.51</td>\n",
       "      <td>-0.51</td>\n",
       "      <td>0.65</td>\n",
       "      <td>-0.97</td>\n",
       "      <td>-0.53</td>\n",
       "      <td>0.42</td>\n",
       "    </tr>\n",
       "    <tr>\n",
       "      <th>...</th>\n",
       "      <td>...</td>\n",
       "      <td>...</td>\n",
       "      <td>...</td>\n",
       "      <td>...</td>\n",
       "      <td>...</td>\n",
       "      <td>...</td>\n",
       "      <td>...</td>\n",
       "      <td>...</td>\n",
       "      <td>...</td>\n",
       "      <td>...</td>\n",
       "      <td>...</td>\n",
       "      <td>...</td>\n",
       "      <td>...</td>\n",
       "      <td>...</td>\n",
       "      <td>...</td>\n",
       "      <td>...</td>\n",
       "      <td>...</td>\n",
       "      <td>...</td>\n",
       "      <td>...</td>\n",
       "      <td>...</td>\n",
       "      <td>...</td>\n",
       "    </tr>\n",
       "    <tr>\n",
       "      <th>4995</th>\n",
       "      <td>380368</td>\n",
       "      <td>Gadget Gear Vinyl Skin Back Sticker Sticker Bo...</td>\n",
       "      <td>700.00</td>\n",
       "      <td>0</td>\n",
       "      <td>0</td>\n",
       "      <td>0</td>\n",
       "      <td>0</td>\n",
       "      <td>0</td>\n",
       "      <td>0</td>\n",
       "      <td>0</td>\n",
       "      <td>...</td>\n",
       "      <td>0.90</td>\n",
       "      <td>-0.99</td>\n",
       "      <td>1.00</td>\n",
       "      <td>0.47</td>\n",
       "      <td>-0.94</td>\n",
       "      <td>-0.85</td>\n",
       "      <td>0.92</td>\n",
       "      <td>-1.00</td>\n",
       "      <td>-0.71</td>\n",
       "      <td>0.29</td>\n",
       "    </tr>\n",
       "    <tr>\n",
       "      <th>4996</th>\n",
       "      <td>688391</td>\n",
       "      <td>VICKYBEN Women's A-line Tulle Prom Formal Even...</td>\n",
       "      <td>590.55</td>\n",
       "      <td>0</td>\n",
       "      <td>0</td>\n",
       "      <td>0</td>\n",
       "      <td>0</td>\n",
       "      <td>0</td>\n",
       "      <td>0</td>\n",
       "      <td>0</td>\n",
       "      <td>...</td>\n",
       "      <td>0.79</td>\n",
       "      <td>-0.73</td>\n",
       "      <td>0.95</td>\n",
       "      <td>0.55</td>\n",
       "      <td>-0.19</td>\n",
       "      <td>-0.11</td>\n",
       "      <td>0.83</td>\n",
       "      <td>-0.94</td>\n",
       "      <td>-0.76</td>\n",
       "      <td>0.55</td>\n",
       "    </tr>\n",
       "    <tr>\n",
       "      <th>4997</th>\n",
       "      <td>2076124</td>\n",
       "      <td>Chhaya Hanging Hook Planter Railing Flower Pla...</td>\n",
       "      <td>1102.36</td>\n",
       "      <td>0</td>\n",
       "      <td>0</td>\n",
       "      <td>0</td>\n",
       "      <td>0</td>\n",
       "      <td>0</td>\n",
       "      <td>0</td>\n",
       "      <td>0</td>\n",
       "      <td>...</td>\n",
       "      <td>0.76</td>\n",
       "      <td>-0.89</td>\n",
       "      <td>1.00</td>\n",
       "      <td>0.57</td>\n",
       "      <td>-0.90</td>\n",
       "      <td>-0.84</td>\n",
       "      <td>0.82</td>\n",
       "      <td>-1.00</td>\n",
       "      <td>-0.79</td>\n",
       "      <td>0.59</td>\n",
       "    </tr>\n",
       "    <tr>\n",
       "      <th>4998</th>\n",
       "      <td>908550</td>\n",
       "      <td>Luxocase Realme X2 Pro Carbon Fiber Leather Bl...</td>\n",
       "      <td>511.81</td>\n",
       "      <td>0</td>\n",
       "      <td>0</td>\n",
       "      <td>0</td>\n",
       "      <td>0</td>\n",
       "      <td>0</td>\n",
       "      <td>0</td>\n",
       "      <td>0</td>\n",
       "      <td>...</td>\n",
       "      <td>0.71</td>\n",
       "      <td>-0.85</td>\n",
       "      <td>0.99</td>\n",
       "      <td>0.69</td>\n",
       "      <td>-0.81</td>\n",
       "      <td>-0.05</td>\n",
       "      <td>0.76</td>\n",
       "      <td>-0.95</td>\n",
       "      <td>-0.60</td>\n",
       "      <td>0.42</td>\n",
       "    </tr>\n",
       "    <tr>\n",
       "      <th>4999</th>\n",
       "      <td>1562918</td>\n",
       "      <td>Harshi Hybrid Silicone Camera Protection Back ...</td>\n",
       "      <td>472.44</td>\n",
       "      <td>0</td>\n",
       "      <td>0</td>\n",
       "      <td>0</td>\n",
       "      <td>0</td>\n",
       "      <td>0</td>\n",
       "      <td>0</td>\n",
       "      <td>0</td>\n",
       "      <td>...</td>\n",
       "      <td>0.75</td>\n",
       "      <td>-0.84</td>\n",
       "      <td>0.99</td>\n",
       "      <td>0.73</td>\n",
       "      <td>-0.72</td>\n",
       "      <td>-0.20</td>\n",
       "      <td>0.82</td>\n",
       "      <td>-0.96</td>\n",
       "      <td>-0.69</td>\n",
       "      <td>0.66</td>\n",
       "    </tr>\n",
       "  </tbody>\n",
       "</table>\n",
       "<p>5000 rows × 2390 columns</p>\n",
       "</div>"
      ],
      "text/plain": [
       "         0                                                  1       2     \\\n",
       "0     1896156  Bildos 3Ply Non-Woven Fabric Disposable Surgic...  669.29   \n",
       "1     1715725  Negaor 10 PCS Interior Door Card Trim Panel Re...  314.96   \n",
       "2      229576  Madden Girl Women's Domain Boot, Black Fabric,...  500.00   \n",
       "3      670308  Patel's Velocity perfume (60ml)(pack of 1) Pat...  157.48   \n",
       "4      945067  WorldCare® 1000W Car Power ply Output Socket U...  590.55   \n",
       "...       ...                                                ...     ...   \n",
       "4995   380368  Gadget Gear Vinyl Skin Back Sticker Sticker Bo...  700.00   \n",
       "4996   688391  VICKYBEN Women's A-line Tulle Prom Formal Even...  590.55   \n",
       "4997  2076124  Chhaya Hanging Hook Planter Railing Flower Pla... 1102.36   \n",
       "4998   908550  Luxocase Realme X2 Pro Carbon Fiber Leather Bl...  511.81   \n",
       "4999  1562918  Harshi Hybrid Silicone Camera Protection Back ...  472.44   \n",
       "\n",
       "      3     4     5     6     7     8     9     ...  2380  2381  2382  2383  \\\n",
       "0        0     0     0     0     0     0     0  ...  0.68  0.04  0.84  0.10   \n",
       "1        0     0     0     0     0     0     0  ...  0.88 -0.94  0.99  0.41   \n",
       "2        0     0     0     0     0     0     0  ...  0.56 -0.73  0.98  0.74   \n",
       "3        0     0     0     0     0     0     0  ...  0.63 -0.40  0.96  0.59   \n",
       "4        0     0     0     0     0     0     0  ...  0.53 -0.64  0.99  0.57   \n",
       "...    ...   ...   ...   ...   ...   ...   ...  ...   ...   ...   ...   ...   \n",
       "4995     0     0     0     0     0     0     0  ...  0.90 -0.99  1.00  0.47   \n",
       "4996     0     0     0     0     0     0     0  ...  0.79 -0.73  0.95  0.55   \n",
       "4997     0     0     0     0     0     0     0  ...  0.76 -0.89  1.00  0.57   \n",
       "4998     0     0     0     0     0     0     0  ...  0.71 -0.85  0.99  0.69   \n",
       "4999     0     0     0     0     0     0     0  ...  0.75 -0.84  0.99  0.73   \n",
       "\n",
       "      2384  2385  2386  2387  2388  2389  \n",
       "0    -0.09 -0.36  0.71 -0.94 -0.54  0.28  \n",
       "1    -0.85 -0.46  0.92 -0.96 -0.79  0.53  \n",
       "2    -0.66 -0.01  0.69 -0.92 -0.72  0.73  \n",
       "3    -0.55 -0.03  0.73 -0.92 -0.65  0.42  \n",
       "4    -0.51 -0.51  0.65 -0.97 -0.53  0.42  \n",
       "...    ...   ...   ...   ...   ...   ...  \n",
       "4995 -0.94 -0.85  0.92 -1.00 -0.71  0.29  \n",
       "4996 -0.19 -0.11  0.83 -0.94 -0.76  0.55  \n",
       "4997 -0.90 -0.84  0.82 -1.00 -0.79  0.59  \n",
       "4998 -0.81 -0.05  0.76 -0.95 -0.60  0.42  \n",
       "4999 -0.72 -0.20  0.82 -0.96 -0.69  0.66  \n",
       "\n",
       "[5000 rows x 2390 columns]"
      ]
     },
     "execution_count": 146,
     "metadata": {},
     "output_type": "execute_result"
    }
   ],
   "source": [
    "# # add the X_whole to the data\n",
    "# data['embeddings'] = X_whole\n",
    "X_whole = np.reshape(X_whole, (5000, 768))\n",
    "\n",
    "data_v2 = pd.concat([data.reset_index(), pd.DataFrame(X_whole).reset_index()], axis=1, ignore_index=True)\n",
    "data_v2"
   ]
  },
  {
   "cell_type": "code",
   "execution_count": 147,
   "metadata": {},
   "outputs": [
    {
     "data": {
      "text/plain": [
       "(5000, 2390)"
      ]
     },
     "execution_count": 147,
     "metadata": {},
     "output_type": "execute_result"
    }
   ],
   "source": [
    "data_v2.shape"
   ]
  },
  {
   "cell_type": "code",
   "execution_count": 148,
   "metadata": {},
   "outputs": [
    {
     "data": {
      "text/html": [
       "<div>\n",
       "<style scoped>\n",
       "    .dataframe tbody tr th:only-of-type {\n",
       "        vertical-align: middle;\n",
       "    }\n",
       "\n",
       "    .dataframe tbody tr th {\n",
       "        vertical-align: top;\n",
       "    }\n",
       "\n",
       "    .dataframe thead th {\n",
       "        text-align: right;\n",
       "    }\n",
       "</style>\n",
       "<table border=\"1\" class=\"dataframe\">\n",
       "  <thead>\n",
       "    <tr style=\"text-align: right;\">\n",
       "      <th></th>\n",
       "      <th>1</th>\n",
       "      <th>2</th>\n",
       "      <th>3</th>\n",
       "      <th>4</th>\n",
       "      <th>5</th>\n",
       "      <th>6</th>\n",
       "      <th>7</th>\n",
       "      <th>8</th>\n",
       "      <th>9</th>\n",
       "      <th>10</th>\n",
       "      <th>...</th>\n",
       "      <th>2380</th>\n",
       "      <th>2381</th>\n",
       "      <th>2382</th>\n",
       "      <th>2383</th>\n",
       "      <th>2384</th>\n",
       "      <th>2385</th>\n",
       "      <th>2386</th>\n",
       "      <th>2387</th>\n",
       "      <th>2388</th>\n",
       "      <th>2389</th>\n",
       "    </tr>\n",
       "  </thead>\n",
       "  <tbody>\n",
       "    <tr>\n",
       "      <th>0</th>\n",
       "      <td>Bildos 3Ply Non-Woven Fabric Disposable Surgic...</td>\n",
       "      <td>669.29</td>\n",
       "      <td>0</td>\n",
       "      <td>0</td>\n",
       "      <td>0</td>\n",
       "      <td>0</td>\n",
       "      <td>0</td>\n",
       "      <td>0</td>\n",
       "      <td>0</td>\n",
       "      <td>0</td>\n",
       "      <td>...</td>\n",
       "      <td>0.68</td>\n",
       "      <td>0.04</td>\n",
       "      <td>0.84</td>\n",
       "      <td>0.10</td>\n",
       "      <td>-0.09</td>\n",
       "      <td>-0.36</td>\n",
       "      <td>0.71</td>\n",
       "      <td>-0.94</td>\n",
       "      <td>-0.54</td>\n",
       "      <td>0.28</td>\n",
       "    </tr>\n",
       "    <tr>\n",
       "      <th>1</th>\n",
       "      <td>Negaor 10 PCS Interior Door Card Trim Panel Re...</td>\n",
       "      <td>314.96</td>\n",
       "      <td>0</td>\n",
       "      <td>0</td>\n",
       "      <td>0</td>\n",
       "      <td>0</td>\n",
       "      <td>0</td>\n",
       "      <td>0</td>\n",
       "      <td>0</td>\n",
       "      <td>0</td>\n",
       "      <td>...</td>\n",
       "      <td>0.88</td>\n",
       "      <td>-0.94</td>\n",
       "      <td>0.99</td>\n",
       "      <td>0.41</td>\n",
       "      <td>-0.85</td>\n",
       "      <td>-0.46</td>\n",
       "      <td>0.92</td>\n",
       "      <td>-0.96</td>\n",
       "      <td>-0.79</td>\n",
       "      <td>0.53</td>\n",
       "    </tr>\n",
       "    <tr>\n",
       "      <th>2</th>\n",
       "      <td>Madden Girl Women's Domain Boot, Black Fabric,...</td>\n",
       "      <td>500.00</td>\n",
       "      <td>0</td>\n",
       "      <td>0</td>\n",
       "      <td>0</td>\n",
       "      <td>0</td>\n",
       "      <td>0</td>\n",
       "      <td>0</td>\n",
       "      <td>0</td>\n",
       "      <td>0</td>\n",
       "      <td>...</td>\n",
       "      <td>0.56</td>\n",
       "      <td>-0.73</td>\n",
       "      <td>0.98</td>\n",
       "      <td>0.74</td>\n",
       "      <td>-0.66</td>\n",
       "      <td>-0.01</td>\n",
       "      <td>0.69</td>\n",
       "      <td>-0.92</td>\n",
       "      <td>-0.72</td>\n",
       "      <td>0.73</td>\n",
       "    </tr>\n",
       "    <tr>\n",
       "      <th>3</th>\n",
       "      <td>Patel's Velocity perfume (60ml)(pack of 1) Pat...</td>\n",
       "      <td>157.48</td>\n",
       "      <td>0</td>\n",
       "      <td>0</td>\n",
       "      <td>0</td>\n",
       "      <td>0</td>\n",
       "      <td>0</td>\n",
       "      <td>0</td>\n",
       "      <td>0</td>\n",
       "      <td>0</td>\n",
       "      <td>...</td>\n",
       "      <td>0.63</td>\n",
       "      <td>-0.40</td>\n",
       "      <td>0.96</td>\n",
       "      <td>0.59</td>\n",
       "      <td>-0.55</td>\n",
       "      <td>-0.03</td>\n",
       "      <td>0.73</td>\n",
       "      <td>-0.92</td>\n",
       "      <td>-0.65</td>\n",
       "      <td>0.42</td>\n",
       "    </tr>\n",
       "    <tr>\n",
       "      <th>4</th>\n",
       "      <td>WorldCare® 1000W Car Power ply Output Socket U...</td>\n",
       "      <td>590.55</td>\n",
       "      <td>0</td>\n",
       "      <td>0</td>\n",
       "      <td>0</td>\n",
       "      <td>0</td>\n",
       "      <td>0</td>\n",
       "      <td>0</td>\n",
       "      <td>0</td>\n",
       "      <td>0</td>\n",
       "      <td>...</td>\n",
       "      <td>0.53</td>\n",
       "      <td>-0.64</td>\n",
       "      <td>0.99</td>\n",
       "      <td>0.57</td>\n",
       "      <td>-0.51</td>\n",
       "      <td>-0.51</td>\n",
       "      <td>0.65</td>\n",
       "      <td>-0.97</td>\n",
       "      <td>-0.53</td>\n",
       "      <td>0.42</td>\n",
       "    </tr>\n",
       "  </tbody>\n",
       "</table>\n",
       "<p>5 rows × 2389 columns</p>\n",
       "</div>"
      ],
      "text/plain": [
       "                                                1      2     3     4     5     \\\n",
       "0  Bildos 3Ply Non-Woven Fabric Disposable Surgic... 669.29     0     0     0   \n",
       "1  Negaor 10 PCS Interior Door Card Trim Panel Re... 314.96     0     0     0   \n",
       "2  Madden Girl Women's Domain Boot, Black Fabric,... 500.00     0     0     0   \n",
       "3  Patel's Velocity perfume (60ml)(pack of 1) Pat... 157.48     0     0     0   \n",
       "4  WorldCare® 1000W Car Power ply Output Socket U... 590.55     0     0     0   \n",
       "\n",
       "   6     7     8     9     10    ...  2380  2381  2382  2383  2384  2385  \\\n",
       "0     0     0     0     0     0  ...  0.68  0.04  0.84  0.10 -0.09 -0.36   \n",
       "1     0     0     0     0     0  ...  0.88 -0.94  0.99  0.41 -0.85 -0.46   \n",
       "2     0     0     0     0     0  ...  0.56 -0.73  0.98  0.74 -0.66 -0.01   \n",
       "3     0     0     0     0     0  ...  0.63 -0.40  0.96  0.59 -0.55 -0.03   \n",
       "4     0     0     0     0     0  ...  0.53 -0.64  0.99  0.57 -0.51 -0.51   \n",
       "\n",
       "   2386  2387  2388  2389  \n",
       "0  0.71 -0.94 -0.54  0.28  \n",
       "1  0.92 -0.96 -0.79  0.53  \n",
       "2  0.69 -0.92 -0.72  0.73  \n",
       "3  0.73 -0.92 -0.65  0.42  \n",
       "4  0.65 -0.97 -0.53  0.42  \n",
       "\n",
       "[5 rows x 2389 columns]"
      ]
     },
     "execution_count": 148,
     "metadata": {},
     "output_type": "execute_result"
    }
   ],
   "source": [
    "data_v3 = data_v2.drop(columns=[0])\n",
    "data_v3.head()"
   ]
  },
  {
   "cell_type": "code",
   "execution_count": 149,
   "metadata": {},
   "outputs": [],
   "source": [
    "target_col_name = 2"
   ]
  },
  {
   "cell_type": "code",
   "execution_count": 150,
   "metadata": {},
   "outputs": [],
   "source": [
    "# for i in X_train[title]:\n",
    "#     X_train_embeddings.append(mtokenize3(i))"
   ]
  },
  {
   "cell_type": "code",
   "execution_count": 151,
   "metadata": {},
   "outputs": [],
   "source": [
    "# X_train_embeddings = np.array(X_train_embeddings)"
   ]
  },
  {
   "cell_type": "code",
   "execution_count": 152,
   "metadata": {},
   "outputs": [],
   "source": [
    "# X_train_embeddings.shape"
   ]
  },
  {
   "cell_type": "code",
   "execution_count": 153,
   "metadata": {},
   "outputs": [],
   "source": [
    "# for i in X_test[title]:\n",
    "#     X_test_embeddings.append(mtokenize3(i))"
   ]
  },
  {
   "cell_type": "code",
   "execution_count": 154,
   "metadata": {},
   "outputs": [],
   "source": [
    "# X_test_embeddings = np.array(X_test_embeddings)"
   ]
  },
  {
   "cell_type": "code",
   "execution_count": 155,
   "metadata": {},
   "outputs": [],
   "source": [
    "# X_test_embeddings.shape"
   ]
  },
  {
   "cell_type": "code",
   "execution_count": 156,
   "metadata": {},
   "outputs": [],
   "source": [
    "\n",
    "# Split data\n",
    "# X_train, X_test, y_train, y_test = train_test_split(data.drop([prod_len], axis=1), data[prod_len], test_size=0.2, random_state=42)\n",
    "X_train, X_test, y_train, y_test = train_test_split(data_v3.drop([target_col_name], axis=1), data_v3[target_col_name], test_size=0.2, random_state=42)\n"
   ]
  },
  {
   "cell_type": "code",
   "execution_count": 157,
   "metadata": {},
   "outputs": [],
   "source": [
    "# print(X_train_embeddings[0])\n",
    "# import pickle\n",
    "# pickle.dump(X_train_embeddings, open(\"X_train_embeddings.pkl\", \"wb\"))\n",
    "# pickle.dump(X_test_embeddings, open(\"X_test_embeddings.pkl\", \"wb\"))"
   ]
  },
  {
   "cell_type": "code",
   "execution_count": 158,
   "metadata": {},
   "outputs": [],
   "source": [
    "# import pickle\n"
   ]
  },
  {
   "cell_type": "code",
   "execution_count": 159,
   "metadata": {},
   "outputs": [],
   "source": [
    "\n",
    "# X_train_embeddings = pickle.load(open(\"X_train_embeddings.pkl\", \"rb\"))\n",
    "# X_test_embeddings = pickle.load(open(\"X_test_embeddings.pkl\", \"rb\"))"
   ]
  },
  {
   "cell_type": "markdown",
   "metadata": {},
   "source": []
  },
  {
   "cell_type": "code",
   "execution_count": 160,
   "metadata": {},
   "outputs": [],
   "source": [
    "# %pip install nltk"
   ]
  },
  {
   "cell_type": "code",
   "execution_count": 161,
   "metadata": {},
   "outputs": [],
   "source": [
    "\n",
    "# X_train_embeddings2 = [w2v_model.wv[word] for word in X_train[desc]]\n",
    "# X_test_embeddings2 = [w2v_model.wv[word] for word in X_test[desc]]\n"
   ]
  },
  {
   "cell_type": "code",
   "execution_count": 162,
   "metadata": {},
   "outputs": [],
   "source": [
    "# X_train_embeddings = np.reshape(X_train_embeddings, (800, 768))"
   ]
  },
  {
   "cell_type": "code",
   "execution_count": null,
   "metadata": {},
   "outputs": [],
   "source": [
    "# X_train_embeddings.shape"
   ]
  },
  {
   "cell_type": "code",
   "execution_count": null,
   "metadata": {},
   "outputs": [],
   "source": [
    "X_test_embeddings = np.reshape(X_test_embeddings, (200, 768))"
   ]
  },
  {
   "cell_type": "code",
   "execution_count": null,
   "metadata": {},
   "outputs": [],
   "source": [
    "mdf2 = pd.DataFrame(X_train_embeddings)"
   ]
  },
  {
   "cell_type": "code",
   "execution_count": null,
   "metadata": {},
   "outputs": [],
   "source": [
    "X_train.shape"
   ]
  },
  {
   "cell_type": "code",
   "execution_count": null,
   "metadata": {},
   "outputs": [],
   "source": [
    "mdf2.shape"
   ]
  },
  {
   "cell_type": "code",
   "execution_count": null,
   "metadata": {},
   "outputs": [],
   "source": [
    "mdf3_mergev2 = X_train.copy()"
   ]
  },
  {
   "cell_type": "code",
   "execution_count": null,
   "metadata": {},
   "outputs": [],
   "source": [
    "mdf3_mergev2 = mdf3_mergev2.reset_index()"
   ]
  },
  {
   "cell_type": "code",
   "execution_count": null,
   "metadata": {},
   "outputs": [],
   "source": [
    "mdf2 = mdf2.reset_index()"
   ]
  },
  {
   "cell_type": "code",
   "execution_count": null,
   "metadata": {},
   "outputs": [],
   "source": [
    "# for i in mdf2.columns.values:\n",
    "#     # mdf3_mergev2[i] = mdf2[i]\n",
    "#     mdf3_mergev2 = mdf3_mergev2.join(mdf2[i])\n",
    "\n",
    "mdf3_mergev2 = pd.concat([mdf3_mergev2, mdf2], axis=1)\n",
    "mdf3_mergev2"
   ]
  },
  {
   "cell_type": "code",
   "execution_count": null,
   "metadata": {},
   "outputs": [],
   "source": [
    "mdf3_mergev2.shape"
   ]
  },
  {
   "cell_type": "code",
   "execution_count": null,
   "metadata": {},
   "outputs": [],
   "source": [
    "mdf3_mergev2 = mdf3_mergev2.drop(columns=[title, desc, bull_pt, 'index'])\n",
    "mdf3_mergev2"
   ]
  },
  {
   "cell_type": "code",
   "execution_count": null,
   "metadata": {},
   "outputs": [],
   "source": [
    "mdf3_mergev1 = pd.concat([X_train, mdf2], axis=1, ignore_index=True)"
   ]
  },
  {
   "cell_type": "code",
   "execution_count": null,
   "metadata": {},
   "outputs": [],
   "source": [
    "mdf3_mergev1.shape"
   ]
  },
  {
   "cell_type": "code",
   "execution_count": null,
   "metadata": {},
   "outputs": [],
   "source": [
    "# X_train_final = None\n",
    "# X_test_final = None\n",
    "# # Merge embeddings with other features\n",
    "# X_train_final = pd.concat([X_train.drop([title, desc, bull_pt], axis=1), mdf2], axis=1, ignore_index=True)\n",
    "\n",
    "X_train_final = mdf3_mergev2"
   ]
  },
  {
   "cell_type": "code",
   "execution_count": null,
   "metadata": {},
   "outputs": [],
   "source": []
  },
  {
   "cell_type": "code",
   "execution_count": null,
   "metadata": {},
   "outputs": [],
   "source": [
    "\n",
    "X_test_final = pd.concat([X_test.drop([title, desc, bull_pt], axis=1).reset_index(), pd.DataFrame(X_test_embeddings).reset_index()], axis=1, ignore_index=True)\n"
   ]
  },
  {
   "cell_type": "code",
   "execution_count": null,
   "metadata": {},
   "outputs": [],
   "source": [
    "X_test_final"
   ]
  },
  {
   "cell_type": "code",
   "execution_count": null,
   "metadata": {},
   "outputs": [],
   "source": [
    "X_train.head()"
   ]
  },
  {
   "cell_type": "code",
   "execution_count": null,
   "metadata": {},
   "outputs": [],
   "source": [
    "X_train_final.shape"
   ]
  },
  {
   "cell_type": "code",
   "execution_count": null,
   "metadata": {},
   "outputs": [],
   "source": [
    "X_train_final.shape"
   ]
  },
  {
   "cell_type": "code",
   "execution_count": null,
   "metadata": {},
   "outputs": [],
   "source": [
    "y_train"
   ]
  },
  {
   "cell_type": "code",
   "execution_count": null,
   "metadata": {},
   "outputs": [],
   "source": [
    "X_train_final_v2 = X_train_final.copy()\n",
    "X_test_final_v2 = X_test_final.copy()\n",
    "\n",
    "# X_train_final_v2[\"missing_features\"] = 0\n",
    "# X_test_final_v2[\"missing_features\"] = 0\n",
    "\n",
    "# X_train_final_v2[\"missing_features2\"] = 0\n",
    "# X_test_final_v2[\"missing_features2\"] = 0"
   ]
  },
  {
   "cell_type": "code",
   "execution_count": 192,
   "metadata": {},
   "outputs": [],
   "source": [
    "X_train_final_v3 = X_train_final_v2.copy()\n",
    "X_test_final_v3 = X_test_final_v2.copy()\n",
    "\n",
    "# X_train_final_v2[\"missing_features\"] = 0\n",
    "# X_test_final_v2[\"missing_features\"] = 0\n",
    "\n",
    "# X_train_final_v2[\"missing_features2\"] = 0\n",
    "# X_test_final_v2[\"missing_features2\"] = 0"
   ]
  },
  {
   "cell_type": "code",
   "execution_count": null,
   "metadata": {},
   "outputs": [],
   "source": [
    "cols = [range(800,1339)]\n",
    "df.drop(df.columns[cols],axis=1,inplace=True)"
   ]
  },
  {
   "cell_type": "code",
   "execution_count": 196,
   "metadata": {},
   "outputs": [
    {
     "name": "stdout",
     "output_type": "stream",
     "text": [
      "(800, 1339)\n",
      "(200, 1339)\n",
      "(800,)\n",
      "(200,)\n"
     ]
    }
   ],
   "source": [
    "print(X_train_final_v2.shape)\n",
    "print(X_test_final_v2.shape)\n",
    "print(y_train.shape)\n",
    "print(y_test.shape)"
   ]
  },
  {
   "cell_type": "code",
   "execution_count": 204,
   "metadata": {},
   "outputs": [
    {
     "name": "stdout",
     "output_type": "stream",
     "text": [
      "[   0    1    2 ... 1336 1337 1338]\n"
     ]
    }
   ],
   "source": [
    "X_train_final_v2.head()\n",
    "col_values = X_train_final_v2.columns.values\n",
    "print(col_values)"
   ]
  },
  {
   "cell_type": "code",
   "execution_count": 201,
   "metadata": {},
   "outputs": [
    {
     "name": "stdout",
     "output_type": "stream",
     "text": [
      "[   0    1    2 ... 1336 1337 1338]\n"
     ]
    }
   ],
   "source": [
    "X_test_final_v2.head()\n",
    "col_vtest = X_test_final_v2.columns.values\n",
    "print(col_vtest)"
   ]
  },
  {
   "cell_type": "code",
   "execution_count": 202,
   "metadata": {},
   "outputs": [],
   "source": [
    "X_train_final_v2 = X_train_final_v2.rename(columns={\n",
    "    col_values[i] : col_vtest[i] for i in range(len(col_values))\n",
    "})"
   ]
  },
  {
   "cell_type": "code",
   "execution_count": 203,
   "metadata": {},
   "outputs": [
    {
     "data": {
      "text/html": [
       "<div>\n",
       "<style scoped>\n",
       "    .dataframe tbody tr th:only-of-type {\n",
       "        vertical-align: middle;\n",
       "    }\n",
       "\n",
       "    .dataframe tbody tr th {\n",
       "        vertical-align: top;\n",
       "    }\n",
       "\n",
       "    .dataframe thead th {\n",
       "        text-align: right;\n",
       "    }\n",
       "</style>\n",
       "<table border=\"1\" class=\"dataframe\">\n",
       "  <thead>\n",
       "    <tr style=\"text-align: right;\">\n",
       "      <th></th>\n",
       "      <th>0</th>\n",
       "      <th>1</th>\n",
       "      <th>2</th>\n",
       "      <th>3</th>\n",
       "      <th>4</th>\n",
       "      <th>5</th>\n",
       "      <th>6</th>\n",
       "      <th>7</th>\n",
       "      <th>8</th>\n",
       "      <th>9</th>\n",
       "      <th>...</th>\n",
       "      <th>1329</th>\n",
       "      <th>1330</th>\n",
       "      <th>1331</th>\n",
       "      <th>1332</th>\n",
       "      <th>1333</th>\n",
       "      <th>1334</th>\n",
       "      <th>1335</th>\n",
       "      <th>1336</th>\n",
       "      <th>1337</th>\n",
       "      <th>1338</th>\n",
       "    </tr>\n",
       "  </thead>\n",
       "  <tbody>\n",
       "    <tr>\n",
       "      <th>0</th>\n",
       "      <td>2164404</td>\n",
       "      <td>0</td>\n",
       "      <td>0</td>\n",
       "      <td>0</td>\n",
       "      <td>0</td>\n",
       "      <td>0</td>\n",
       "      <td>0</td>\n",
       "      <td>0</td>\n",
       "      <td>0</td>\n",
       "      <td>0</td>\n",
       "      <td>...</td>\n",
       "      <td>-0.40</td>\n",
       "      <td>-0.29</td>\n",
       "      <td>0.57</td>\n",
       "      <td>0.09</td>\n",
       "      <td>0.73</td>\n",
       "      <td>0.78</td>\n",
       "      <td>-0.26</td>\n",
       "      <td>0.39</td>\n",
       "      <td>0.62</td>\n",
       "      <td>-0.36</td>\n",
       "    </tr>\n",
       "    <tr>\n",
       "      <th>1</th>\n",
       "      <td>1577925</td>\n",
       "      <td>0</td>\n",
       "      <td>0</td>\n",
       "      <td>0</td>\n",
       "      <td>0</td>\n",
       "      <td>0</td>\n",
       "      <td>0</td>\n",
       "      <td>0</td>\n",
       "      <td>0</td>\n",
       "      <td>0</td>\n",
       "      <td>...</td>\n",
       "      <td>-0.60</td>\n",
       "      <td>-0.92</td>\n",
       "      <td>0.59</td>\n",
       "      <td>-0.70</td>\n",
       "      <td>1.00</td>\n",
       "      <td>0.81</td>\n",
       "      <td>-0.68</td>\n",
       "      <td>-0.13</td>\n",
       "      <td>0.71</td>\n",
       "      <td>-0.89</td>\n",
       "    </tr>\n",
       "    <tr>\n",
       "      <th>2</th>\n",
       "      <td>1760074</td>\n",
       "      <td>0</td>\n",
       "      <td>0</td>\n",
       "      <td>0</td>\n",
       "      <td>0</td>\n",
       "      <td>0</td>\n",
       "      <td>0</td>\n",
       "      <td>0</td>\n",
       "      <td>0</td>\n",
       "      <td>0</td>\n",
       "      <td>...</td>\n",
       "      <td>-0.54</td>\n",
       "      <td>-0.88</td>\n",
       "      <td>0.56</td>\n",
       "      <td>-0.46</td>\n",
       "      <td>0.99</td>\n",
       "      <td>0.88</td>\n",
       "      <td>-0.60</td>\n",
       "      <td>0.04</td>\n",
       "      <td>0.62</td>\n",
       "      <td>-0.90</td>\n",
       "    </tr>\n",
       "    <tr>\n",
       "      <th>3</th>\n",
       "      <td>1997179</td>\n",
       "      <td>0</td>\n",
       "      <td>0</td>\n",
       "      <td>0</td>\n",
       "      <td>0</td>\n",
       "      <td>0</td>\n",
       "      <td>0</td>\n",
       "      <td>0</td>\n",
       "      <td>0</td>\n",
       "      <td>0</td>\n",
       "      <td>...</td>\n",
       "      <td>-0.34</td>\n",
       "      <td>-0.74</td>\n",
       "      <td>0.68</td>\n",
       "      <td>-0.38</td>\n",
       "      <td>0.96</td>\n",
       "      <td>0.61</td>\n",
       "      <td>-0.09</td>\n",
       "      <td>-0.30</td>\n",
       "      <td>0.74</td>\n",
       "      <td>-0.92</td>\n",
       "    </tr>\n",
       "    <tr>\n",
       "      <th>4</th>\n",
       "      <td>929974</td>\n",
       "      <td>0</td>\n",
       "      <td>0</td>\n",
       "      <td>0</td>\n",
       "      <td>0</td>\n",
       "      <td>0</td>\n",
       "      <td>0</td>\n",
       "      <td>0</td>\n",
       "      <td>0</td>\n",
       "      <td>0</td>\n",
       "      <td>...</td>\n",
       "      <td>-0.59</td>\n",
       "      <td>-0.75</td>\n",
       "      <td>0.69</td>\n",
       "      <td>-0.57</td>\n",
       "      <td>0.96</td>\n",
       "      <td>0.77</td>\n",
       "      <td>-0.31</td>\n",
       "      <td>-0.14</td>\n",
       "      <td>0.75</td>\n",
       "      <td>-0.81</td>\n",
       "    </tr>\n",
       "  </tbody>\n",
       "</table>\n",
       "<p>5 rows × 1339 columns</p>\n",
       "</div>"
      ],
      "text/plain": [
       "      0     1     2     3     4     5     6     7     8     9     ...  1329  \\\n",
       "0  2164404     0     0     0     0     0     0     0     0     0  ... -0.40   \n",
       "1  1577925     0     0     0     0     0     0     0     0     0  ... -0.60   \n",
       "2  1760074     0     0     0     0     0     0     0     0     0  ... -0.54   \n",
       "3  1997179     0     0     0     0     0     0     0     0     0  ... -0.34   \n",
       "4   929974     0     0     0     0     0     0     0     0     0  ... -0.59   \n",
       "\n",
       "   1330  1331  1332  1333  1334  1335  1336  1337  1338  \n",
       "0 -0.29  0.57  0.09  0.73  0.78 -0.26  0.39  0.62 -0.36  \n",
       "1 -0.92  0.59 -0.70  1.00  0.81 -0.68 -0.13  0.71 -0.89  \n",
       "2 -0.88  0.56 -0.46  0.99  0.88 -0.60  0.04  0.62 -0.90  \n",
       "3 -0.74  0.68 -0.38  0.96  0.61 -0.09 -0.30  0.74 -0.92  \n",
       "4 -0.75  0.69 -0.57  0.96  0.77 -0.31 -0.14  0.75 -0.81  \n",
       "\n",
       "[5 rows x 1339 columns]"
      ]
     },
     "execution_count": 203,
     "metadata": {},
     "output_type": "execute_result"
    }
   ],
   "source": [
    "X_test_final_v2.head()"
   ]
  },
  {
   "cell_type": "code",
   "execution_count": 195,
   "metadata": {},
   "outputs": [],
   "source": [
    "# X_test_final_v2.drop(columns=[1339, 1340], inplace=True)"
   ]
  },
  {
   "cell_type": "code",
   "execution_count": 170,
   "metadata": {},
   "outputs": [],
   "source": [
    "X_train_final_v2 = X_train.copy()\n",
    "X_test_final_v2 = X_test.copy()\n",
    "\n",
    "# y_train = y_train.copy()\n",
    "# y_test "
   ]
  },
  {
   "cell_type": "code",
   "execution_count": 171,
   "metadata": {},
   "outputs": [
    {
     "name": "stdout",
     "output_type": "stream",
     "text": [
      "(4000, 2388)\n",
      "(1000, 2388)\n",
      "(4000,)\n",
      "(1000,)\n"
     ]
    }
   ],
   "source": [
    "print(X_train_final_v2.shape)\n",
    "print(X_test_final_v2.shape)\n",
    "print(y_train.shape)\n",
    "print(y_test.shape)"
   ]
  },
  {
   "cell_type": "code",
   "execution_count": 177,
   "metadata": {},
   "outputs": [
    {
     "data": {
      "text/html": [
       "<div>\n",
       "<style scoped>\n",
       "    .dataframe tbody tr th:only-of-type {\n",
       "        vertical-align: middle;\n",
       "    }\n",
       "\n",
       "    .dataframe tbody tr th {\n",
       "        vertical-align: top;\n",
       "    }\n",
       "\n",
       "    .dataframe thead th {\n",
       "        text-align: right;\n",
       "    }\n",
       "</style>\n",
       "<table border=\"1\" class=\"dataframe\">\n",
       "  <thead>\n",
       "    <tr style=\"text-align: right;\">\n",
       "      <th></th>\n",
       "      <th>0</th>\n",
       "      <th>1</th>\n",
       "      <th>2</th>\n",
       "      <th>3</th>\n",
       "      <th>4</th>\n",
       "      <th>5</th>\n",
       "      <th>6</th>\n",
       "      <th>7</th>\n",
       "      <th>8</th>\n",
       "      <th>9</th>\n",
       "      <th>...</th>\n",
       "      <th>2377</th>\n",
       "      <th>2378</th>\n",
       "      <th>2379</th>\n",
       "      <th>2380</th>\n",
       "      <th>2381</th>\n",
       "      <th>2382</th>\n",
       "      <th>2383</th>\n",
       "      <th>2384</th>\n",
       "      <th>2385</th>\n",
       "      <th>2386</th>\n",
       "    </tr>\n",
       "  </thead>\n",
       "  <tbody>\n",
       "    <tr>\n",
       "      <th>4227</th>\n",
       "      <td>0</td>\n",
       "      <td>0</td>\n",
       "      <td>0</td>\n",
       "      <td>0</td>\n",
       "      <td>0</td>\n",
       "      <td>0</td>\n",
       "      <td>0</td>\n",
       "      <td>0</td>\n",
       "      <td>0</td>\n",
       "      <td>0</td>\n",
       "      <td>...</td>\n",
       "      <td>0.62</td>\n",
       "      <td>-0.33</td>\n",
       "      <td>0.90</td>\n",
       "      <td>0.25</td>\n",
       "      <td>0.07</td>\n",
       "      <td>-0.01</td>\n",
       "      <td>0.67</td>\n",
       "      <td>-0.88</td>\n",
       "      <td>-0.59</td>\n",
       "      <td>0.28</td>\n",
       "    </tr>\n",
       "    <tr>\n",
       "      <th>4676</th>\n",
       "      <td>0</td>\n",
       "      <td>0</td>\n",
       "      <td>0</td>\n",
       "      <td>0</td>\n",
       "      <td>0</td>\n",
       "      <td>0</td>\n",
       "      <td>0</td>\n",
       "      <td>0</td>\n",
       "      <td>0</td>\n",
       "      <td>0</td>\n",
       "      <td>...</td>\n",
       "      <td>0.53</td>\n",
       "      <td>-0.36</td>\n",
       "      <td>0.94</td>\n",
       "      <td>0.70</td>\n",
       "      <td>-0.67</td>\n",
       "      <td>0.14</td>\n",
       "      <td>0.67</td>\n",
       "      <td>-0.90</td>\n",
       "      <td>-0.58</td>\n",
       "      <td>0.36</td>\n",
       "    </tr>\n",
       "    <tr>\n",
       "      <th>800</th>\n",
       "      <td>0</td>\n",
       "      <td>0</td>\n",
       "      <td>0</td>\n",
       "      <td>0</td>\n",
       "      <td>0</td>\n",
       "      <td>0</td>\n",
       "      <td>0</td>\n",
       "      <td>0</td>\n",
       "      <td>0</td>\n",
       "      <td>0</td>\n",
       "      <td>...</td>\n",
       "      <td>0.51</td>\n",
       "      <td>-0.92</td>\n",
       "      <td>1.00</td>\n",
       "      <td>0.51</td>\n",
       "      <td>-0.86</td>\n",
       "      <td>-0.65</td>\n",
       "      <td>0.58</td>\n",
       "      <td>-1.00</td>\n",
       "      <td>-0.47</td>\n",
       "      <td>0.31</td>\n",
       "    </tr>\n",
       "    <tr>\n",
       "      <th>3671</th>\n",
       "      <td>0</td>\n",
       "      <td>0</td>\n",
       "      <td>0</td>\n",
       "      <td>0</td>\n",
       "      <td>0</td>\n",
       "      <td>0</td>\n",
       "      <td>0</td>\n",
       "      <td>0</td>\n",
       "      <td>0</td>\n",
       "      <td>0</td>\n",
       "      <td>...</td>\n",
       "      <td>0.61</td>\n",
       "      <td>-0.75</td>\n",
       "      <td>0.94</td>\n",
       "      <td>0.74</td>\n",
       "      <td>-0.84</td>\n",
       "      <td>0.03</td>\n",
       "      <td>0.67</td>\n",
       "      <td>-0.73</td>\n",
       "      <td>-0.66</td>\n",
       "      <td>0.57</td>\n",
       "    </tr>\n",
       "    <tr>\n",
       "      <th>4193</th>\n",
       "      <td>0</td>\n",
       "      <td>0</td>\n",
       "      <td>0</td>\n",
       "      <td>0</td>\n",
       "      <td>0</td>\n",
       "      <td>0</td>\n",
       "      <td>0</td>\n",
       "      <td>0</td>\n",
       "      <td>0</td>\n",
       "      <td>0</td>\n",
       "      <td>...</td>\n",
       "      <td>0.52</td>\n",
       "      <td>-0.68</td>\n",
       "      <td>0.97</td>\n",
       "      <td>0.71</td>\n",
       "      <td>-0.43</td>\n",
       "      <td>-0.04</td>\n",
       "      <td>0.57</td>\n",
       "      <td>-0.95</td>\n",
       "      <td>-0.70</td>\n",
       "      <td>0.59</td>\n",
       "    </tr>\n",
       "  </tbody>\n",
       "</table>\n",
       "<p>5 rows × 2387 columns</p>\n",
       "</div>"
      ],
      "text/plain": [
       "      0     1     2     3     4     5     6     7     8     9     ...  2377  \\\n",
       "4227     0     0     0     0     0     0     0     0     0     0  ...  0.62   \n",
       "4676     0     0     0     0     0     0     0     0     0     0  ...  0.53   \n",
       "800      0     0     0     0     0     0     0     0     0     0  ...  0.51   \n",
       "3671     0     0     0     0     0     0     0     0     0     0  ...  0.61   \n",
       "4193     0     0     0     0     0     0     0     0     0     0  ...  0.52   \n",
       "\n",
       "      2378  2379  2380  2381  2382  2383  2384  2385  2386  \n",
       "4227 -0.33  0.90  0.25  0.07 -0.01  0.67 -0.88 -0.59  0.28  \n",
       "4676 -0.36  0.94  0.70 -0.67  0.14  0.67 -0.90 -0.58  0.36  \n",
       "800  -0.92  1.00  0.51 -0.86 -0.65  0.58 -1.00 -0.47  0.31  \n",
       "3671 -0.75  0.94  0.74 -0.84  0.03  0.67 -0.73 -0.66  0.57  \n",
       "4193 -0.68  0.97  0.71 -0.43 -0.04  0.57 -0.95 -0.70  0.59  \n",
       "\n",
       "[5 rows x 2387 columns]"
      ]
     },
     "execution_count": 177,
     "metadata": {},
     "output_type": "execute_result"
    }
   ],
   "source": [
    "X_train_final_v2.head()"
   ]
  },
  {
   "cell_type": "code",
   "execution_count": 176,
   "metadata": {},
   "outputs": [
    {
     "data": {
      "text/html": [
       "<div>\n",
       "<style scoped>\n",
       "    .dataframe tbody tr th:only-of-type {\n",
       "        vertical-align: middle;\n",
       "    }\n",
       "\n",
       "    .dataframe tbody tr th {\n",
       "        vertical-align: top;\n",
       "    }\n",
       "\n",
       "    .dataframe thead th {\n",
       "        text-align: right;\n",
       "    }\n",
       "</style>\n",
       "<table border=\"1\" class=\"dataframe\">\n",
       "  <thead>\n",
       "    <tr style=\"text-align: right;\">\n",
       "      <th></th>\n",
       "      <th>0</th>\n",
       "      <th>1</th>\n",
       "      <th>2</th>\n",
       "      <th>3</th>\n",
       "      <th>4</th>\n",
       "      <th>5</th>\n",
       "      <th>6</th>\n",
       "      <th>7</th>\n",
       "      <th>8</th>\n",
       "      <th>9</th>\n",
       "      <th>...</th>\n",
       "      <th>2377</th>\n",
       "      <th>2378</th>\n",
       "      <th>2379</th>\n",
       "      <th>2380</th>\n",
       "      <th>2381</th>\n",
       "      <th>2382</th>\n",
       "      <th>2383</th>\n",
       "      <th>2384</th>\n",
       "      <th>2385</th>\n",
       "      <th>2386</th>\n",
       "    </tr>\n",
       "  </thead>\n",
       "  <tbody>\n",
       "    <tr>\n",
       "      <th>1501</th>\n",
       "      <td>0</td>\n",
       "      <td>0</td>\n",
       "      <td>0</td>\n",
       "      <td>0</td>\n",
       "      <td>0</td>\n",
       "      <td>0</td>\n",
       "      <td>0</td>\n",
       "      <td>0</td>\n",
       "      <td>0</td>\n",
       "      <td>0</td>\n",
       "      <td>...</td>\n",
       "      <td>0.85</td>\n",
       "      <td>-0.81</td>\n",
       "      <td>0.98</td>\n",
       "      <td>0.82</td>\n",
       "      <td>-0.77</td>\n",
       "      <td>-0.16</td>\n",
       "      <td>0.86</td>\n",
       "      <td>-0.91</td>\n",
       "      <td>-0.78</td>\n",
       "      <td>0.80</td>\n",
       "    </tr>\n",
       "    <tr>\n",
       "      <th>2586</th>\n",
       "      <td>0</td>\n",
       "      <td>0</td>\n",
       "      <td>0</td>\n",
       "      <td>0</td>\n",
       "      <td>0</td>\n",
       "      <td>0</td>\n",
       "      <td>0</td>\n",
       "      <td>0</td>\n",
       "      <td>0</td>\n",
       "      <td>0</td>\n",
       "      <td>...</td>\n",
       "      <td>0.72</td>\n",
       "      <td>-0.42</td>\n",
       "      <td>0.97</td>\n",
       "      <td>0.52</td>\n",
       "      <td>-0.41</td>\n",
       "      <td>-0.21</td>\n",
       "      <td>0.77</td>\n",
       "      <td>-0.95</td>\n",
       "      <td>-0.57</td>\n",
       "      <td>0.49</td>\n",
       "    </tr>\n",
       "    <tr>\n",
       "      <th>2653</th>\n",
       "      <td>1</td>\n",
       "      <td>0</td>\n",
       "      <td>0</td>\n",
       "      <td>0</td>\n",
       "      <td>0</td>\n",
       "      <td>0</td>\n",
       "      <td>0</td>\n",
       "      <td>0</td>\n",
       "      <td>0</td>\n",
       "      <td>0</td>\n",
       "      <td>...</td>\n",
       "      <td>0.63</td>\n",
       "      <td>-0.78</td>\n",
       "      <td>0.99</td>\n",
       "      <td>0.44</td>\n",
       "      <td>-0.52</td>\n",
       "      <td>-0.49</td>\n",
       "      <td>0.71</td>\n",
       "      <td>-0.99</td>\n",
       "      <td>-0.66</td>\n",
       "      <td>0.24</td>\n",
       "    </tr>\n",
       "    <tr>\n",
       "      <th>1055</th>\n",
       "      <td>0</td>\n",
       "      <td>0</td>\n",
       "      <td>0</td>\n",
       "      <td>0</td>\n",
       "      <td>0</td>\n",
       "      <td>0</td>\n",
       "      <td>0</td>\n",
       "      <td>0</td>\n",
       "      <td>0</td>\n",
       "      <td>0</td>\n",
       "      <td>...</td>\n",
       "      <td>0.49</td>\n",
       "      <td>0.09</td>\n",
       "      <td>0.81</td>\n",
       "      <td>0.45</td>\n",
       "      <td>0.06</td>\n",
       "      <td>0.07</td>\n",
       "      <td>0.54</td>\n",
       "      <td>-0.85</td>\n",
       "      <td>-0.55</td>\n",
       "      <td>0.34</td>\n",
       "    </tr>\n",
       "    <tr>\n",
       "      <th>705</th>\n",
       "      <td>0</td>\n",
       "      <td>0</td>\n",
       "      <td>0</td>\n",
       "      <td>0</td>\n",
       "      <td>0</td>\n",
       "      <td>0</td>\n",
       "      <td>0</td>\n",
       "      <td>0</td>\n",
       "      <td>0</td>\n",
       "      <td>0</td>\n",
       "      <td>...</td>\n",
       "      <td>0.83</td>\n",
       "      <td>-0.85</td>\n",
       "      <td>0.99</td>\n",
       "      <td>0.74</td>\n",
       "      <td>-0.62</td>\n",
       "      <td>-0.25</td>\n",
       "      <td>0.86</td>\n",
       "      <td>-0.97</td>\n",
       "      <td>-0.77</td>\n",
       "      <td>0.72</td>\n",
       "    </tr>\n",
       "  </tbody>\n",
       "</table>\n",
       "<p>5 rows × 2387 columns</p>\n",
       "</div>"
      ],
      "text/plain": [
       "      0     1     2     3     4     5     6     7     8     9     ...  2377  \\\n",
       "1501     0     0     0     0     0     0     0     0     0     0  ...  0.85   \n",
       "2586     0     0     0     0     0     0     0     0     0     0  ...  0.72   \n",
       "2653     1     0     0     0     0     0     0     0     0     0  ...  0.63   \n",
       "1055     0     0     0     0     0     0     0     0     0     0  ...  0.49   \n",
       "705      0     0     0     0     0     0     0     0     0     0  ...  0.83   \n",
       "\n",
       "      2378  2379  2380  2381  2382  2383  2384  2385  2386  \n",
       "1501 -0.81  0.98  0.82 -0.77 -0.16  0.86 -0.91 -0.78  0.80  \n",
       "2586 -0.42  0.97  0.52 -0.41 -0.21  0.77 -0.95 -0.57  0.49  \n",
       "2653 -0.78  0.99  0.44 -0.52 -0.49  0.71 -0.99 -0.66  0.24  \n",
       "1055  0.09  0.81  0.45  0.06  0.07  0.54 -0.85 -0.55  0.34  \n",
       "705  -0.85  0.99  0.74 -0.62 -0.25  0.86 -0.97 -0.77  0.72  \n",
       "\n",
       "[5 rows x 2387 columns]"
      ]
     },
     "execution_count": 176,
     "metadata": {},
     "output_type": "execute_result"
    }
   ],
   "source": [
    "X_test_final_v2.head()"
   ]
  },
  {
   "cell_type": "code",
   "execution_count": 174,
   "metadata": {},
   "outputs": [],
   "source": [
    "X_train_final_v2 = X_train_final_v2.drop(columns = [1])\n",
    "X_test_final_v2 = X_test_final_v2.drop(columns = [1])\n"
   ]
  },
  {
   "cell_type": "code",
   "execution_count": 175,
   "metadata": {},
   "outputs": [],
   "source": [
    "X_test_final_v2 = X_test_final_v2.rename(columns={\n",
    "    X_test_final_v2.columns.values[i] : i for i in range(len(X_test_final_v2.columns.values))\n",
    "})\n",
    "X_train_final_v2 = X_train_final_v2.rename(columns={\n",
    "    X_train_final_v2.columns.values[i] : i for i in range(len(X_train_final_v2.columns.values))\n",
    "})"
   ]
  },
  {
   "cell_type": "code",
   "execution_count": 178,
   "metadata": {},
   "outputs": [
    {
     "name": "stderr",
     "output_type": "stream",
     "text": [
      "  2%|▏         | 1/42 [00:21<14:43, 21.56s/it]"
     ]
    },
    {
     "name": "stdout",
     "output_type": "stream",
     "text": [
      "{'Model': 'AdaBoostRegressor', 'R-Squared': -0.5541633916348487, 'Adjusted R-Squared': 2.1185945448438144, 'RMSE': 8650.844294250543, 'Time taken': 21.55799889564514}\n"
     ]
    },
    {
     "name": "stderr",
     "output_type": "stream",
     "text": [
      "  5%|▍         | 2/42 [01:55<42:40, 64.00s/it]"
     ]
    },
    {
     "name": "stdout",
     "output_type": "stream",
     "text": [
      "{'Model': 'BaggingRegressor', 'R-Squared': 0.3920889940357175, 'Adjusted R-Squared': 1.4375382528518144, 'RMSE': 5410.4097977248, 'Time taken': 93.71147227287292}\n"
     ]
    },
    {
     "name": "stderr",
     "output_type": "stream",
     "text": [
      "  7%|▋         | 3/42 [02:12<27:46, 42.72s/it]"
     ]
    },
    {
     "name": "stdout",
     "output_type": "stream",
     "text": [
      "{'Model': 'BayesianRidge', 'R-Squared': -1.59336107573032, 'Adjusted R-Squared': 2.86654734485201, 'RMSE': 11174.848702208948, 'Time taken': 17.399442434310913}\n"
     ]
    },
    {
     "name": "stderr",
     "output_type": "stream",
     "text": [
      " 10%|▉         | 4/42 [02:29<20:33, 32.45s/it]"
     ]
    },
    {
     "name": "stdout",
     "output_type": "stream",
     "text": [
      "{'Model': 'DecisionTreeRegressor', 'R-Squared': 0.35591635482115735, 'Adjusted R-Squared': 1.4635731711337636, 'RMSE': 5569.052262957952, 'Time taken': 16.712996244430542}\n"
     ]
    },
    {
     "name": "stderr",
     "output_type": "stream",
     "text": [
      " 12%|█▏        | 5/42 [02:29<12:53, 20.89s/it]"
     ]
    },
    {
     "name": "stdout",
     "output_type": "stream",
     "text": [
      "{'Model': 'DummyRegressor', 'R-Squared': -0.12613153666240606, 'Adjusted R-Squared': 1.8105226261712852, 'RMSE': 7363.846350480568, 'Time taken': 0.393007755279541}\n"
     ]
    },
    {
     "name": "stderr",
     "output_type": "stream",
     "text": [
      " 14%|█▍        | 6/42 [02:40<10:30, 17.52s/it]"
     ]
    },
    {
     "name": "stdout",
     "output_type": "stream",
     "text": [
      "{'Model': 'ElasticNet', 'R-Squared': -2.996589184860996, 'Adjusted R-Squared': 3.8765076337724316, 'RMSE': 13872.505708568167, 'Time taken': 10.96413516998291}\n"
     ]
    },
    {
     "name": "stderr",
     "output_type": "stream",
     "text": [
      " 17%|█▋        | 7/42 [02:49<08:29, 14.57s/it]"
     ]
    },
    {
     "name": "stdout",
     "output_type": "stream",
     "text": [
      "{'Model': 'ElasticNetCV', 'R-Squared': -0.12610152960507515, 'Adjusted R-Squared': 1.810501028872817, 'RMSE': 7363.748240790704, 'Time taken': 8.487905025482178}\n"
     ]
    },
    {
     "name": "stderr",
     "output_type": "stream",
     "text": [
      " 19%|█▉        | 8/42 [02:52<06:14, 11.03s/it]"
     ]
    },
    {
     "name": "stdout",
     "output_type": "stream",
     "text": [
      "{'Model': 'ExtraTreeRegressor', 'R-Squared': 0.5453677892867117, 'Adjusted R-Squared': 1.327217275578224, 'RMSE': 4678.862245457189, 'Time taken': 3.4509942531585693}\n"
     ]
    },
    {
     "name": "stderr",
     "output_type": "stream",
     "text": [
      " 21%|██▏       | 9/42 [07:29<51:48, 94.19s/it]"
     ]
    },
    {
     "name": "stdout",
     "output_type": "stream",
     "text": [
      "{'Model': 'ExtraTreesRegressor', 'R-Squared': 0.5551255603470904, 'Adjusted R-Squared': 1.3201942112487441, 'RMSE': 4628.378684209173, 'Time taken': 277.05974555015564}\n"
     ]
    },
    {
     "name": "stderr",
     "output_type": "stream",
     "text": [
      " 24%|██▍       | 10/42 [07:30<34:52, 65.40s/it]"
     ]
    },
    {
     "name": "stdout",
     "output_type": "stream",
     "text": [
      "{'Model': 'GammaRegressor', 'R-Squared': 0.17764687895336284, 'Adjusted R-Squared': 1.5918809567187253, 'RMSE': 6292.733365733167, 'Time taken': 0.9345154762268066}\n"
     ]
    },
    {
     "name": "stderr",
     "output_type": "stream",
     "text": [
      " 26%|██▌       | 11/42 [08:22<31:40, 61.32s/it]"
     ]
    },
    {
     "name": "stdout",
     "output_type": "stream",
     "text": [
      "{'Model': 'GaussianProcessRegressor', 'R-Squared': -0.0559806459668899, 'Adjusted R-Squared': 1.7600321796260252, 'RMSE': 7130.798050105367, 'Time taken': 52.046690464019775}\n"
     ]
    },
    {
     "name": "stderr",
     "output_type": "stream",
     "text": [
      " 29%|██▊       | 12/42 [09:24<30:43, 61.45s/it]"
     ]
    },
    {
     "name": "stdout",
     "output_type": "stream",
     "text": [
      "{'Model': 'GradientBoostingRegressor', 'R-Squared': 0.48909463712713963, 'Adjusted R-Squared': 1.3677193497910574, 'RMSE': 4959.985290157331, 'Time taken': 61.771934032440186}\n"
     ]
    },
    {
     "name": "stderr",
     "output_type": "stream",
     "text": [
      " 31%|███       | 13/42 [10:10<27:24, 56.71s/it]"
     ]
    },
    {
     "name": "stdout",
     "output_type": "stream",
     "text": [
      "{'Model': 'HistGradientBoostingRegressor', 'R-Squared': -10.541112106751848, 'Adjusted R-Squared': 9.30660734484517, 'RMSE': 23574.03845426972, 'Time taken': 45.791990756988525}\n"
     ]
    },
    {
     "name": "stderr",
     "output_type": "stream",
     "text": [
      " 33%|███▎      | 14/42 [10:21<20:01, 42.91s/it]"
     ]
    },
    {
     "name": "stdout",
     "output_type": "stream",
     "text": [
      "{'Model': 'HuberRegressor', 'R-Squared': 0.05487668985488603, 'Adjusted R-Squared': 1.6802436504574705, 'RMSE': 6746.1251715392345, 'Time taken': 11.029965162277222}\n"
     ]
    },
    {
     "name": "stderr",
     "output_type": "stream",
     "text": [
      " 36%|███▌      | 15/42 [10:22<13:35, 30.22s/it]"
     ]
    },
    {
     "name": "stdout",
     "output_type": "stream",
     "text": [
      "{'Model': 'KNeighborsRegressor', 'R-Squared': 0.2504848709763763, 'Adjusted R-Squared': 1.5394564941603748, 'RMSE': 6007.591021681156, 'Time taken': 0.7959940433502197}\n"
     ]
    },
    {
     "name": "stderr",
     "output_type": "stream",
     "text": [
      " 38%|███▊      | 16/42 [10:24<09:27, 21.82s/it]"
     ]
    },
    {
     "name": "stdout",
     "output_type": "stream",
     "text": [
      "{'Model': 'KernelRidge', 'R-Squared': -31166.493078465526, 'Adjusted R-Squared': 22433.51122866503, 'RMSE': 1225070.532661243, 'Time taken': 2.3028430938720703}\n"
     ]
    },
    {
     "name": "stderr",
     "output_type": "stream",
     "text": [
      " 40%|████      | 17/42 [10:26<06:38, 15.93s/it]"
     ]
    },
    {
     "name": "stdout",
     "output_type": "stream",
     "text": [
      "{'Model': 'Lars', 'R-Squared': -17.963437841419587, 'Adjusted R-Squared': 14.648756774912226, 'RMSE': 30218.207150676746, 'Time taken': 2.2321419715881348}\n"
     ]
    },
    {
     "name": "stderr",
     "output_type": "stream",
     "text": [
      " 43%|████▎     | 18/42 [10:37<05:44, 14.36s/it]"
     ]
    },
    {
     "name": "stdout",
     "output_type": "stream",
     "text": [
      "{'Model': 'LarsCV', 'R-Squared': -0.12613153666240606, 'Adjusted R-Squared': 1.8105226261712852, 'RMSE': 7363.846350480568, 'Time taken': 10.717881679534912}\n"
     ]
    },
    {
     "name": "stderr",
     "output_type": "stream",
     "text": [
      " 45%|████▌     | 19/42 [10:45<04:47, 12.52s/it]"
     ]
    },
    {
     "name": "stdout",
     "output_type": "stream",
     "text": [
      "{'Model': 'Lasso', 'R-Squared': -7423.533630807831, 'Adjusted R-Squared': 5344.738542634744, 'RMSE': 597922.2946486935, 'Time taken': 8.226801872253418}\n"
     ]
    },
    {
     "name": "stderr",
     "output_type": "stream",
     "text": [
      " 48%|████▊     | 20/42 [12:38<15:41, 42.78s/it]"
     ]
    },
    {
     "name": "stdout",
     "output_type": "stream",
     "text": [
      "{'Model': 'LassoCV', 'R-Squared': -0.12613153666240606, 'Adjusted R-Squared': 1.8105226261712852, 'RMSE': 7363.846350480568, 'Time taken': 113.30269575119019}\n"
     ]
    },
    {
     "name": "stderr",
     "output_type": "stream",
     "text": [
      " 50%|█████     | 21/42 [12:41<10:43, 30.62s/it]"
     ]
    },
    {
     "name": "stdout",
     "output_type": "stream",
     "text": [
      "{'Model': 'LassoLars', 'R-Squared': -5.612065374106087, 'Adjusted R-Squared': 5.7589721244466725, 'RMSE': 17843.44584920322, 'Time taken': 2.279595136642456}\n"
     ]
    },
    {
     "name": "stderr",
     "output_type": "stream",
     "text": [
      " 52%|█████▏    | 22/42 [12:51<08:10, 24.53s/it]"
     ]
    },
    {
     "name": "stdout",
     "output_type": "stream",
     "text": [
      "{'Model': 'LassoLarsCV', 'R-Squared': -0.12613153666240606, 'Adjusted R-Squared': 1.8105226261712852, 'RMSE': 7363.846350480568, 'Time taken': 10.312113761901855}\n"
     ]
    },
    {
     "name": "stderr",
     "output_type": "stream",
     "text": [
      " 55%|█████▍    | 23/42 [13:00<06:16, 19.79s/it]"
     ]
    },
    {
     "name": "stdout",
     "output_type": "stream",
     "text": [
      "{'Model': 'LassoLarsIC', 'R-Squared': -0.0007460674914359089, 'Adjusted R-Squared': 1.7202776090950609, 'RMSE': 6941.800109051468, 'Time taken': 8.75054931640625}\n"
     ]
    },
    {
     "name": "stderr",
     "output_type": "stream",
     "text": [
      " 57%|█████▋    | 24/42 [13:06<04:45, 15.86s/it]"
     ]
    },
    {
     "name": "stdout",
     "output_type": "stream",
     "text": [
      "{'Model': 'LinearRegression', 'R-Squared': -2.4249325485058543e+26, 'Adjusted R-Squared': 1.745322489882816e+26, 'RMSE': 1.0805876239449616e+17, 'Time taken': 6.689976215362549}\n"
     ]
    },
    {
     "name": "stderr",
     "output_type": "stream",
     "text": [
      " 60%|█████▉    | 25/42 [13:08<03:18, 11.68s/it]"
     ]
    },
    {
     "name": "stdout",
     "output_type": "stream",
     "text": [
      "{'Model': 'LinearSVR', 'R-Squared': 0.014394618996490305, 'Adjusted R-Squared': 1.7093802418029584, 'RMSE': 6889.087339455223, 'Time taken': 1.937999963760376}\n"
     ]
    },
    {
     "name": "stderr",
     "output_type": "stream",
     "text": [
      " 62%|██████▏   | 26/42 [14:22<08:02, 30.18s/it]"
     ]
    },
    {
     "name": "stdout",
     "output_type": "stream",
     "text": [
      "{'Model': 'MLPRegressor', 'R-Squared': -0.09649090338189037, 'Adjusted R-Squared': 1.7891890579816345, 'RMSE': 7266.2891237365575, 'Time taken': 73.34206533432007}\n"
     ]
    },
    {
     "name": "stderr",
     "output_type": "stream",
     "text": [
      " 64%|██████▍   | 27/42 [14:37<06:24, 25.61s/it]"
     ]
    },
    {
     "name": "stdout",
     "output_type": "stream",
     "text": [
      "{'Model': 'NuSVR', 'R-Squared': -0.014536105141919942, 'Adjusted R-Squared': 1.7302028595365835, 'RMSE': 6989.4646288737695, 'Time taken': 14.92893648147583}\n"
     ]
    },
    {
     "name": "stderr",
     "output_type": "stream",
     "text": [
      " 67%|██████▋   | 28/42 [14:38<04:15, 18.22s/it]"
     ]
    },
    {
     "name": "stdout",
     "output_type": "stream",
     "text": [
      "{'Model': 'OrthogonalMatchingPursuit', 'R-Squared': -15.905982064148027, 'Adjusted R-Squared': 13.167922249339972, 'RMSE': 28531.878091903516, 'Time taken': 0.9928531646728516}\n"
     ]
    },
    {
     "name": "stderr",
     "output_type": "stream",
     "text": [
      " 69%|██████▉   | 29/42 [14:44<03:09, 14.58s/it]"
     ]
    },
    {
     "name": "stdout",
     "output_type": "stream",
     "text": [
      "{'Model': 'OrthogonalMatchingPursuitCV', 'R-Squared': -0.00022555894423392786, 'Adjusted R-Squared': 1.7199029779432924, 'RMSE': 6939.9945879693405, 'Time taken': 6.071551322937012}\n"
     ]
    },
    {
     "name": "stderr",
     "output_type": "stream",
     "text": [
      " 71%|███████▏  | 30/42 [14:45<02:07, 10.65s/it]"
     ]
    },
    {
     "name": "stdout",
     "output_type": "stream",
     "text": [
      "{'Model': 'PassiveAggressiveRegressor', 'R-Squared': 0.05376408090629459, 'Adjusted R-Squared': 1.68104444032753, 'RMSE': 6750.094807816713, 'Time taken': 1.4980599880218506}\n"
     ]
    },
    {
     "name": "stderr",
     "output_type": "stream",
     "text": [
      " 74%|███████▍  | 31/42 [14:47<01:26,  7.86s/it]"
     ]
    },
    {
     "name": "stdout",
     "output_type": "stream",
     "text": [
      "{'Model': 'PoissonRegressor', 'R-Squared': -0.5311387535618568, 'Adjusted R-Squared': 2.1020227772394056, 'RMSE': 8586.52487047778, 'Time taken': 1.347583293914795}\n"
     ]
    },
    {
     "name": "stderr",
     "output_type": "stream",
     "text": [
      " 74%|███████▍  | 31/42 [35:11<12:29, 68.12s/it]\n"
     ]
    },
    {
     "ename": "KeyboardInterrupt",
     "evalue": "",
     "output_type": "error",
     "traceback": [
      "\u001b[1;31m---------------------------------------------------------------------------\u001b[0m",
      "\u001b[1;31mKeyboardInterrupt\u001b[0m                         Traceback (most recent call last)",
      "\u001b[1;32m~\\AppData\\Local\\Temp\\ipykernel_7608\\3674076719.py\u001b[0m in \u001b[0;36m<module>\u001b[1;34m\u001b[0m\n\u001b[0;32m      9\u001b[0m \u001b[0mclf\u001b[0m \u001b[1;33m=\u001b[0m \u001b[0mLazyRegressor\u001b[0m\u001b[1;33m(\u001b[0m\u001b[0mverbose\u001b[0m\u001b[1;33m=\u001b[0m\u001b[1;36m2\u001b[0m\u001b[1;33m,\u001b[0m\u001b[0mignore_warnings\u001b[0m\u001b[1;33m=\u001b[0m\u001b[1;32mFalse\u001b[0m\u001b[1;33m,\u001b[0m \u001b[0mcustom_metric\u001b[0m\u001b[1;33m=\u001b[0m\u001b[1;32mNone\u001b[0m\u001b[1;33m)\u001b[0m\u001b[1;33m\u001b[0m\u001b[1;33m\u001b[0m\u001b[0m\n\u001b[0;32m     10\u001b[0m \u001b[1;31m# clf = LazyRegressor(verbose=2,ignore_warnings=False, custom_metric=None,input_features=list(X_train_final_v2.columns) ) # throws error\u001b[0m\u001b[1;33m\u001b[0m\u001b[1;33m\u001b[0m\u001b[1;33m\u001b[0m\u001b[0m\n\u001b[1;32m---> 11\u001b[1;33m \u001b[0mmodels\u001b[0m\u001b[1;33m,\u001b[0m\u001b[0mpredictions\u001b[0m \u001b[1;33m=\u001b[0m \u001b[0mclf\u001b[0m\u001b[1;33m.\u001b[0m\u001b[0mfit\u001b[0m\u001b[1;33m(\u001b[0m\u001b[0mX_train_final_v2\u001b[0m\u001b[1;33m,\u001b[0m \u001b[0mX_test_final_v2\u001b[0m\u001b[1;33m,\u001b[0m \u001b[0my_train\u001b[0m\u001b[1;33m,\u001b[0m \u001b[0my_test\u001b[0m\u001b[1;33m)\u001b[0m\u001b[1;33m\u001b[0m\u001b[1;33m\u001b[0m\u001b[0m\n\u001b[0m\u001b[0;32m     12\u001b[0m \u001b[1;33m\u001b[0m\u001b[0m\n\u001b[0;32m     13\u001b[0m \u001b[0mprint\u001b[0m\u001b[1;33m(\u001b[0m\u001b[0mmodels\u001b[0m\u001b[1;33m)\u001b[0m\u001b[1;33m\u001b[0m\u001b[1;33m\u001b[0m\u001b[0m\n",
      "\u001b[1;32mc:\\Users\\panch\\anaconda3\\envs\\tfodv2\\lib\\site-packages\\lazypredict\\Supervised.py\u001b[0m in \u001b[0;36mfit\u001b[1;34m(self, X_train, X_test, y_train, y_test)\u001b[0m\n\u001b[0;32m    601\u001b[0m                     )\n\u001b[0;32m    602\u001b[0m \u001b[1;33m\u001b[0m\u001b[0m\n\u001b[1;32m--> 603\u001b[1;33m                 \u001b[0mpipe\u001b[0m\u001b[1;33m.\u001b[0m\u001b[0mfit\u001b[0m\u001b[1;33m(\u001b[0m\u001b[0mX_train\u001b[0m\u001b[1;33m,\u001b[0m \u001b[0my_train\u001b[0m\u001b[1;33m)\u001b[0m\u001b[1;33m\u001b[0m\u001b[1;33m\u001b[0m\u001b[0m\n\u001b[0m\u001b[0;32m    604\u001b[0m                 \u001b[0mself\u001b[0m\u001b[1;33m.\u001b[0m\u001b[0mmodels\u001b[0m\u001b[1;33m[\u001b[0m\u001b[0mname\u001b[0m\u001b[1;33m]\u001b[0m \u001b[1;33m=\u001b[0m \u001b[0mpipe\u001b[0m\u001b[1;33m\u001b[0m\u001b[1;33m\u001b[0m\u001b[0m\n\u001b[0;32m    605\u001b[0m                 \u001b[0my_pred\u001b[0m \u001b[1;33m=\u001b[0m \u001b[0mpipe\u001b[0m\u001b[1;33m.\u001b[0m\u001b[0mpredict\u001b[0m\u001b[1;33m(\u001b[0m\u001b[0mX_test\u001b[0m\u001b[1;33m)\u001b[0m\u001b[1;33m\u001b[0m\u001b[1;33m\u001b[0m\u001b[0m\n",
      "\u001b[1;32mc:\\Users\\panch\\anaconda3\\envs\\tfodv2\\lib\\site-packages\\sklearn\\pipeline.py\u001b[0m in \u001b[0;36mfit\u001b[1;34m(self, X, y, **fit_params)\u001b[0m\n\u001b[0;32m    392\u001b[0m             \u001b[1;32mif\u001b[0m \u001b[0mself\u001b[0m\u001b[1;33m.\u001b[0m\u001b[0m_final_estimator\u001b[0m \u001b[1;33m!=\u001b[0m \u001b[1;34m\"passthrough\"\u001b[0m\u001b[1;33m:\u001b[0m\u001b[1;33m\u001b[0m\u001b[1;33m\u001b[0m\u001b[0m\n\u001b[0;32m    393\u001b[0m                 \u001b[0mfit_params_last_step\u001b[0m \u001b[1;33m=\u001b[0m \u001b[0mfit_params_steps\u001b[0m\u001b[1;33m[\u001b[0m\u001b[0mself\u001b[0m\u001b[1;33m.\u001b[0m\u001b[0msteps\u001b[0m\u001b[1;33m[\u001b[0m\u001b[1;33m-\u001b[0m\u001b[1;36m1\u001b[0m\u001b[1;33m]\u001b[0m\u001b[1;33m[\u001b[0m\u001b[1;36m0\u001b[0m\u001b[1;33m]\u001b[0m\u001b[1;33m]\u001b[0m\u001b[1;33m\u001b[0m\u001b[1;33m\u001b[0m\u001b[0m\n\u001b[1;32m--> 394\u001b[1;33m                 \u001b[0mself\u001b[0m\u001b[1;33m.\u001b[0m\u001b[0m_final_estimator\u001b[0m\u001b[1;33m.\u001b[0m\u001b[0mfit\u001b[0m\u001b[1;33m(\u001b[0m\u001b[0mXt\u001b[0m\u001b[1;33m,\u001b[0m \u001b[0my\u001b[0m\u001b[1;33m,\u001b[0m \u001b[1;33m**\u001b[0m\u001b[0mfit_params_last_step\u001b[0m\u001b[1;33m)\u001b[0m\u001b[1;33m\u001b[0m\u001b[1;33m\u001b[0m\u001b[0m\n\u001b[0m\u001b[0;32m    395\u001b[0m \u001b[1;33m\u001b[0m\u001b[0m\n\u001b[0;32m    396\u001b[0m         \u001b[1;32mreturn\u001b[0m \u001b[0mself\u001b[0m\u001b[1;33m\u001b[0m\u001b[1;33m\u001b[0m\u001b[0m\n",
      "\u001b[1;32mc:\\Users\\panch\\anaconda3\\envs\\tfodv2\\lib\\site-packages\\sklearn\\linear_model\\_quantile.py\u001b[0m in \u001b[0;36mfit\u001b[1;34m(self, X, y, sample_weight)\u001b[0m\n\u001b[0;32m    258\u001b[0m             \u001b[0mb_eq\u001b[0m\u001b[1;33m=\u001b[0m\u001b[0mb_eq\u001b[0m\u001b[1;33m,\u001b[0m\u001b[1;33m\u001b[0m\u001b[1;33m\u001b[0m\u001b[0m\n\u001b[0;32m    259\u001b[0m             \u001b[0mmethod\u001b[0m\u001b[1;33m=\u001b[0m\u001b[0mself\u001b[0m\u001b[1;33m.\u001b[0m\u001b[0msolver\u001b[0m\u001b[1;33m,\u001b[0m\u001b[1;33m\u001b[0m\u001b[1;33m\u001b[0m\u001b[0m\n\u001b[1;32m--> 260\u001b[1;33m             \u001b[0moptions\u001b[0m\u001b[1;33m=\u001b[0m\u001b[0msolver_options\u001b[0m\u001b[1;33m,\u001b[0m\u001b[1;33m\u001b[0m\u001b[1;33m\u001b[0m\u001b[0m\n\u001b[0m\u001b[0;32m    261\u001b[0m         )\n\u001b[0;32m    262\u001b[0m         \u001b[0msolution\u001b[0m \u001b[1;33m=\u001b[0m \u001b[0mresult\u001b[0m\u001b[1;33m.\u001b[0m\u001b[0mx\u001b[0m\u001b[1;33m\u001b[0m\u001b[1;33m\u001b[0m\u001b[0m\n",
      "\u001b[1;32mc:\\Users\\panch\\anaconda3\\envs\\tfodv2\\lib\\site-packages\\scipy\\optimize\\_linprog.py\u001b[0m in \u001b[0;36mlinprog\u001b[1;34m(c, A_ub, b_ub, A_eq, b_eq, bounds, method, callback, options, x0)\u001b[0m\n\u001b[0;32m    552\u001b[0m             x, status, message, iteration = _linprog_ip(\n\u001b[0;32m    553\u001b[0m                 \u001b[0mc\u001b[0m\u001b[1;33m,\u001b[0m \u001b[0mc0\u001b[0m\u001b[1;33m=\u001b[0m\u001b[0mc0\u001b[0m\u001b[1;33m,\u001b[0m \u001b[0mA\u001b[0m\u001b[1;33m=\u001b[0m\u001b[0mA\u001b[0m\u001b[1;33m,\u001b[0m \u001b[0mb\u001b[0m\u001b[1;33m=\u001b[0m\u001b[0mb\u001b[0m\u001b[1;33m,\u001b[0m \u001b[0mcallback\u001b[0m\u001b[1;33m=\u001b[0m\u001b[0mcallback\u001b[0m\u001b[1;33m,\u001b[0m\u001b[1;33m\u001b[0m\u001b[1;33m\u001b[0m\u001b[0m\n\u001b[1;32m--> 554\u001b[1;33m                 postsolve_args=postsolve_args, **solver_options)\n\u001b[0m\u001b[0;32m    555\u001b[0m         \u001b[1;32melif\u001b[0m \u001b[0mmeth\u001b[0m \u001b[1;33m==\u001b[0m \u001b[1;34m'revised simplex'\u001b[0m\u001b[1;33m:\u001b[0m\u001b[1;33m\u001b[0m\u001b[1;33m\u001b[0m\u001b[0m\n\u001b[0;32m    556\u001b[0m             x, status, message, iteration = _linprog_rs(\n",
      "\u001b[1;32mc:\\Users\\panch\\anaconda3\\envs\\tfodv2\\lib\\site-packages\\scipy\\optimize\\_linprog_ip.py\u001b[0m in \u001b[0;36m_linprog_ip\u001b[1;34m(c, c0, A, b, callback, postsolve_args, maxiter, tol, disp, alpha0, beta, sparse, lstsq, sym_pos, cholesky, pc, ip, permc_spec, **unknown_options)\u001b[0m\n\u001b[0;32m   1123\u001b[0m                                             \u001b[0mlstsq\u001b[0m\u001b[1;33m,\u001b[0m \u001b[0msym_pos\u001b[0m\u001b[1;33m,\u001b[0m \u001b[0mcholesky\u001b[0m\u001b[1;33m,\u001b[0m\u001b[1;33m\u001b[0m\u001b[1;33m\u001b[0m\u001b[0m\n\u001b[0;32m   1124\u001b[0m                                             \u001b[0mpc\u001b[0m\u001b[1;33m,\u001b[0m \u001b[0mip\u001b[0m\u001b[1;33m,\u001b[0m \u001b[0mpermc_spec\u001b[0m\u001b[1;33m,\u001b[0m \u001b[0mcallback\u001b[0m\u001b[1;33m,\u001b[0m\u001b[1;33m\u001b[0m\u001b[1;33m\u001b[0m\u001b[0m\n\u001b[1;32m-> 1125\u001b[1;33m                                             postsolve_args)\n\u001b[0m\u001b[0;32m   1126\u001b[0m \u001b[1;33m\u001b[0m\u001b[0m\n\u001b[0;32m   1127\u001b[0m     \u001b[1;32mreturn\u001b[0m \u001b[0mx\u001b[0m\u001b[1;33m,\u001b[0m \u001b[0mstatus\u001b[0m\u001b[1;33m,\u001b[0m \u001b[0mmessage\u001b[0m\u001b[1;33m,\u001b[0m \u001b[0miteration\u001b[0m\u001b[1;33m\u001b[0m\u001b[1;33m\u001b[0m\u001b[0m\n",
      "\u001b[1;32mc:\\Users\\panch\\anaconda3\\envs\\tfodv2\\lib\\site-packages\\scipy\\optimize\\_linprog_ip.py\u001b[0m in \u001b[0;36m_ip_hsd\u001b[1;34m(A, b, c, c0, alpha0, beta, maxiter, disp, tol, sparse, lstsq, sym_pos, cholesky, pc, ip, permc_spec, callback, postsolve_args)\u001b[0m\n\u001b[0;32m    753\u001b[0m             d_x, d_y, d_z, d_tau, d_kappa = _get_delta(\n\u001b[0;32m    754\u001b[0m                 \u001b[0mA\u001b[0m\u001b[1;33m,\u001b[0m \u001b[0mb\u001b[0m\u001b[1;33m,\u001b[0m \u001b[0mc\u001b[0m\u001b[1;33m,\u001b[0m \u001b[0mx\u001b[0m\u001b[1;33m,\u001b[0m \u001b[0my\u001b[0m\u001b[1;33m,\u001b[0m \u001b[0mz\u001b[0m\u001b[1;33m,\u001b[0m \u001b[0mtau\u001b[0m\u001b[1;33m,\u001b[0m \u001b[0mkappa\u001b[0m\u001b[1;33m,\u001b[0m \u001b[0mgamma\u001b[0m\u001b[1;33m,\u001b[0m \u001b[0meta\u001b[0m\u001b[1;33m,\u001b[0m\u001b[1;33m\u001b[0m\u001b[1;33m\u001b[0m\u001b[0m\n\u001b[1;32m--> 755\u001b[1;33m                 sparse, lstsq, sym_pos, cholesky, pc, ip, permc_spec)\n\u001b[0m\u001b[0;32m    756\u001b[0m \u001b[1;33m\u001b[0m\u001b[0m\n\u001b[0;32m    757\u001b[0m             \u001b[1;32mif\u001b[0m \u001b[0mip\u001b[0m\u001b[1;33m:\u001b[0m  \u001b[1;31m# initial point\u001b[0m\u001b[1;33m\u001b[0m\u001b[1;33m\u001b[0m\u001b[0m\n",
      "\u001b[1;32mc:\\Users\\panch\\anaconda3\\envs\\tfodv2\\lib\\site-packages\\scipy\\optimize\\_linprog_ip.py\u001b[0m in \u001b[0;36m_get_delta\u001b[1;34m(A, b, c, x, y, z, tau, kappa, gamma, eta, sparse, lstsq, sym_pos, cholesky, pc, ip, permc_spec)\u001b[0m\n\u001b[0;32m    263\u001b[0m             \u001b[1;32mtry\u001b[0m\u001b[1;33m:\u001b[0m\u001b[1;33m\u001b[0m\u001b[1;33m\u001b[0m\u001b[0m\n\u001b[0;32m    264\u001b[0m                 \u001b[1;31m# [4] Equation 8.28\u001b[0m\u001b[1;33m\u001b[0m\u001b[1;33m\u001b[0m\u001b[1;33m\u001b[0m\u001b[0m\n\u001b[1;32m--> 265\u001b[1;33m                 \u001b[0mp\u001b[0m\u001b[1;33m,\u001b[0m \u001b[0mq\u001b[0m \u001b[1;33m=\u001b[0m \u001b[0m_sym_solve\u001b[0m\u001b[1;33m(\u001b[0m\u001b[0mDinv\u001b[0m\u001b[1;33m,\u001b[0m \u001b[0mA\u001b[0m\u001b[1;33m,\u001b[0m \u001b[0mc\u001b[0m\u001b[1;33m,\u001b[0m \u001b[0mb\u001b[0m\u001b[1;33m,\u001b[0m \u001b[0msolve\u001b[0m\u001b[1;33m)\u001b[0m\u001b[1;33m\u001b[0m\u001b[1;33m\u001b[0m\u001b[0m\n\u001b[0m\u001b[0;32m    266\u001b[0m                 \u001b[1;31m# [4] Equation 8.29\u001b[0m\u001b[1;33m\u001b[0m\u001b[1;33m\u001b[0m\u001b[1;33m\u001b[0m\u001b[0m\n\u001b[0;32m    267\u001b[0m                 u, v = _sym_solve(Dinv, A, rhatd -\n",
      "\u001b[1;32mc:\\Users\\panch\\anaconda3\\envs\\tfodv2\\lib\\site-packages\\scipy\\optimize\\_linprog_ip.py\u001b[0m in \u001b[0;36m_sym_solve\u001b[1;34m(Dinv, A, r1, r2, solve)\u001b[0m\n\u001b[0;32m    344\u001b[0m     \u001b[1;31m# [4] 8.31\u001b[0m\u001b[1;33m\u001b[0m\u001b[1;33m\u001b[0m\u001b[1;33m\u001b[0m\u001b[0m\n\u001b[0;32m    345\u001b[0m     \u001b[0mr\u001b[0m \u001b[1;33m=\u001b[0m \u001b[0mr2\u001b[0m \u001b[1;33m+\u001b[0m \u001b[0mA\u001b[0m\u001b[1;33m.\u001b[0m\u001b[0mdot\u001b[0m\u001b[1;33m(\u001b[0m\u001b[0mDinv\u001b[0m \u001b[1;33m*\u001b[0m \u001b[0mr1\u001b[0m\u001b[1;33m)\u001b[0m\u001b[1;33m\u001b[0m\u001b[1;33m\u001b[0m\u001b[0m\n\u001b[1;32m--> 346\u001b[1;33m     \u001b[0mv\u001b[0m \u001b[1;33m=\u001b[0m \u001b[0msolve\u001b[0m\u001b[1;33m(\u001b[0m\u001b[0mr\u001b[0m\u001b[1;33m)\u001b[0m\u001b[1;33m\u001b[0m\u001b[1;33m\u001b[0m\u001b[0m\n\u001b[0m\u001b[0;32m    347\u001b[0m     \u001b[1;31m# [4] 8.32\u001b[0m\u001b[1;33m\u001b[0m\u001b[1;33m\u001b[0m\u001b[1;33m\u001b[0m\u001b[0m\n\u001b[0;32m    348\u001b[0m     \u001b[0mu\u001b[0m \u001b[1;33m=\u001b[0m \u001b[0mDinv\u001b[0m \u001b[1;33m*\u001b[0m \u001b[1;33m(\u001b[0m\u001b[0mA\u001b[0m\u001b[1;33m.\u001b[0m\u001b[0mT\u001b[0m\u001b[1;33m.\u001b[0m\u001b[0mdot\u001b[0m\u001b[1;33m(\u001b[0m\u001b[0mv\u001b[0m\u001b[1;33m)\u001b[0m \u001b[1;33m-\u001b[0m \u001b[0mr1\u001b[0m\u001b[1;33m)\u001b[0m\u001b[1;33m\u001b[0m\u001b[1;33m\u001b[0m\u001b[0m\n",
      "\u001b[1;32mc:\\Users\\panch\\anaconda3\\envs\\tfodv2\\lib\\site-packages\\scipy\\optimize\\_linprog_ip.py\u001b[0m in \u001b[0;36msolve\u001b[1;34m(r)\u001b[0m\n\u001b[0;32m     98\u001b[0m             \u001b[1;32mif\u001b[0m \u001b[0mlstsq\u001b[0m\u001b[1;33m:\u001b[0m  \u001b[1;31m# sometimes necessary as solution is approached\u001b[0m\u001b[1;33m\u001b[0m\u001b[1;33m\u001b[0m\u001b[0m\n\u001b[0;32m     99\u001b[0m                 \u001b[1;32mdef\u001b[0m \u001b[0msolve\u001b[0m\u001b[1;33m(\u001b[0m\u001b[0mr\u001b[0m\u001b[1;33m)\u001b[0m\u001b[1;33m:\u001b[0m\u001b[1;33m\u001b[0m\u001b[1;33m\u001b[0m\u001b[0m\n\u001b[1;32m--> 100\u001b[1;33m                     \u001b[1;32mreturn\u001b[0m \u001b[0msp\u001b[0m\u001b[1;33m.\u001b[0m\u001b[0mlinalg\u001b[0m\u001b[1;33m.\u001b[0m\u001b[0mlstsq\u001b[0m\u001b[1;33m(\u001b[0m\u001b[0mM\u001b[0m\u001b[1;33m,\u001b[0m \u001b[0mr\u001b[0m\u001b[1;33m)\u001b[0m\u001b[1;33m[\u001b[0m\u001b[1;36m0\u001b[0m\u001b[1;33m]\u001b[0m\u001b[1;33m\u001b[0m\u001b[1;33m\u001b[0m\u001b[0m\n\u001b[0m\u001b[0;32m    101\u001b[0m             \u001b[1;32melif\u001b[0m \u001b[0mcholesky\u001b[0m\u001b[1;33m:\u001b[0m\u001b[1;33m\u001b[0m\u001b[1;33m\u001b[0m\u001b[0m\n\u001b[0;32m    102\u001b[0m                 \u001b[0mL\u001b[0m \u001b[1;33m=\u001b[0m \u001b[0msp\u001b[0m\u001b[1;33m.\u001b[0m\u001b[0mlinalg\u001b[0m\u001b[1;33m.\u001b[0m\u001b[0mcho_factor\u001b[0m\u001b[1;33m(\u001b[0m\u001b[0mM\u001b[0m\u001b[1;33m)\u001b[0m\u001b[1;33m\u001b[0m\u001b[1;33m\u001b[0m\u001b[0m\n",
      "\u001b[1;32mc:\\Users\\panch\\anaconda3\\envs\\tfodv2\\lib\\site-packages\\scipy\\linalg\\basic.py\u001b[0m in \u001b[0;36mlstsq\u001b[1;34m(a, b, cond, overwrite_a, overwrite_b, check_finite, lapack_driver)\u001b[0m\n\u001b[0;32m   1214\u001b[0m                 \u001b[0mlwork\u001b[0m\u001b[1;33m,\u001b[0m \u001b[0miwork\u001b[0m \u001b[1;33m=\u001b[0m \u001b[0m_compute_lwork\u001b[0m\u001b[1;33m(\u001b[0m\u001b[0mlapack_lwork\u001b[0m\u001b[1;33m,\u001b[0m \u001b[0mm\u001b[0m\u001b[1;33m,\u001b[0m \u001b[0mn\u001b[0m\u001b[1;33m,\u001b[0m \u001b[0mnrhs\u001b[0m\u001b[1;33m,\u001b[0m \u001b[0mcond\u001b[0m\u001b[1;33m)\u001b[0m\u001b[1;33m\u001b[0m\u001b[1;33m\u001b[0m\u001b[0m\n\u001b[0;32m   1215\u001b[0m                 x, s, rank, info = lapack_func(a1, b1, lwork,\n\u001b[1;32m-> 1216\u001b[1;33m                                                iwork, cond, False, False)\n\u001b[0m\u001b[0;32m   1217\u001b[0m             \u001b[1;32melse\u001b[0m\u001b[1;33m:\u001b[0m  \u001b[1;31m# complex data\u001b[0m\u001b[1;33m\u001b[0m\u001b[1;33m\u001b[0m\u001b[0m\n\u001b[0;32m   1218\u001b[0m                 lwork, rwork, iwork = _compute_lwork(lapack_lwork, m, n,\n",
      "\u001b[1;31mKeyboardInterrupt\u001b[0m: "
     ]
    }
   ],
   "source": [
    "from lazypredict.Supervised import LazyRegressor\n",
    "# # Merge embeddings with other features\n",
    "# X_train_final = pd.concat([X_train.drop([desc], axis=1), pd.DataFrame(X_train_embeddings2)], axis=1)\n",
    "# X_test_final = pd.concat([X_test.drop([desc], axis=1), pd.DataFrame(X_test_embeddings2)], axis=1)\n",
    "\n",
    "# Use Lazy Predict\n",
    "# clf = LazyClassifier(verbose=2,ignore_warnings=False, custom_metric=None)\n",
    "# clf = LazyRegressor(verbose=2,ignore_warnings=False, custom_metric=None)\n",
    "clf = LazyRegressor(verbose=2,ignore_warnings=False, custom_metric=None)\n",
    "# clf = LazyRegressor(verbose=2,ignore_warnings=False, custom_metric=None,input_features=list(X_train_final_v2.columns) ) # throws error\n",
    "models,predictions = clf.fit(X_train_final_v2, X_test_final_v2, y_train, y_test)\n",
    "\n",
    "print(models)\n"
   ]
  },
  {
   "cell_type": "code",
   "execution_count": null,
   "metadata": {},
   "outputs": [],
   "source": [
    "# from lazypredict.Supervised import LazyRegressor\n",
    "# from sklearn import datasets\n",
    "# from sklearn.utils import shuffle\n",
    "# import numpy as np\n",
    "\n",
    "# boston = datasets.load_boston()\n",
    "# X, y = shuffle(boston.data, boston.target, random_state=13)\n",
    "# X = X.astype(np.float32)\n",
    "\n",
    "# offset = int(X.shape[0] * 0.9)\n",
    "\n",
    "# X_train, y_train = X[:offset], y[:offset]\n",
    "# X_test, y_test = X[offset:], y[offset:]\n",
    "\n",
    "# reg = LazyRegressor(verbose=0, ignore_warnings=False, custom_metric=None)\n",
    "# models, predictions = reg.fit(X_train, X_test, y_train, y_test)\n",
    "\n",
    "# print(models)"
   ]
  },
  {
   "cell_type": "code",
   "execution_count": null,
   "metadata": {},
   "outputs": [],
   "source": [
    "X_train_final"
   ]
  },
  {
   "cell_type": "code",
   "execution_count": null,
   "metadata": {},
   "outputs": [],
   "source": [
    "models"
   ]
  },
  {
   "cell_type": "code",
   "execution_count": null,
   "metadata": {},
   "outputs": [],
   "source": [
    "predictions"
   ]
  },
  {
   "cell_type": "code",
   "execution_count": null,
   "metadata": {},
   "outputs": [],
   "source": [
    "\n",
    "X_train_embeddings2 = [w2v_model.wv[word] for word in X_train[desc]]\n",
    "X_test_embeddings2 = [w2v_model.wv[word] for word in X_test[desc]]\n",
    "\n",
    "# Merge embeddings with other features\n",
    "X_train_final = pd.concat([X_train.drop([title], axis=1), pd.DataFrame(X_train_embeddings)], axis=1)\n",
    "X_test_final = pd.concat([X_test.drop([title], axis=1), pd.DataFrame(X_test_embeddings)], axis=1)\n",
    "\n",
    "# Merge embeddings with other features\n",
    "X_train_final = pd.concat([X_train.drop([desc], axis=1), pd.DataFrame(X_train_embeddings2)], axis=1)\n",
    "X_test_final = pd.concat([X_test.drop([desc], axis=1), pd.DataFrame(X_test_embeddings2)], axis=1)\n",
    "\n",
    "# Use Lazy Predict\n",
    "clf = LazyClassifier(verbose=2,ignore_warnings=True, custom_metric=None)\n",
    "models,predictions = clf.fit(X_train_final, X_test_final, y_train, y_test)\n",
    "\n",
    "print(models)\n"
   ]
  },
  {
   "cell_type": "code",
   "execution_count": null,
   "metadata": {},
   "outputs": [],
   "source": [
    "def mtokenize2(text):\n",
    "    inputs = tokenizer(text, padding=True, truncation=True, return_tensors='tf', max_length=512)\n",
    "    outputs = model(inputs)\n",
    "  \n",
    "    return outputs[0]"
   ]
  },
  {
   "attachments": {},
   "cell_type": "markdown",
   "metadata": {},
   "source": [
    "In addition to outputs.last_hidden_state, TFBaseModelOutputWithPoolingAndCrossAttentions also contains a pooler_output tensor, which is a fixed-size vector that summarizes the entire input sequence and is often used as input to a downstream task-specific classifier. The size of this pooler_output tensor is typically equal to the hidden size of the pre-trained model. Additionally, if the pre-trained model has cross-attention layers, TFBaseModelOutputWithPoolingAndCrossAttentions may also contain cross-attention tensors that represent the attention weights applied to the input sequence from other sequences in the batch.\n",
    "\n",
    "In the case of the TFBaseModelOutputWithPoolingAndCrossAttentions class from the Hugging Face Transformers library, outputs.last_hidden_state refers to a tensor containing the contextualized embeddings of each token in the input sequence.\n"
   ]
  },
  {
   "cell_type": "code",
   "execution_count": null,
   "metadata": {},
   "outputs": [],
   "source": [
    "def mtokenize(text):\n",
    "    inputs = tokenizer(text, padding=True, truncation=True, return_tensors='tf', max_length=512)\n",
    "    outputs = model(inputs)\n",
    "    \n",
    "\n",
    "    output_array = outputs[0].numpy()\n",
    "\n",
    "    # Flatten and reshape the output array to match sklearn input format\n",
    "    output_array = output_array.flatten().reshape(1, -1)\n",
    "    \n",
    "    # return outputs[0]\n",
    "    return output_array"
   ]
  },
  {
   "cell_type": "code",
   "execution_count": null,
   "metadata": {},
   "outputs": [],
   "source": [
    "texts = []\n",
    "for i in range(3):\n",
    "    mtest = X_train[title].values[i] + \" \" + X_train[desc].values[i] + \" \" + X_train[bull_pt].values[i]\n",
    "    texts.append(mtest)"
   ]
  },
  {
   "cell_type": "code",
   "execution_count": null,
   "metadata": {},
   "outputs": [],
   "source": [
    "for i in texts:\n",
    "    # print(mtokenize(i))\n",
    "    # print(mtokenize(i).shape)\n",
    "\n",
    "    # print(mtokenize2(i))\n",
    "    # print(mtokenize2(i).shape)\n",
    "\n",
    "    print(mtokenize3(i))\n",
    "    print(mtokenize3(i).shape)"
   ]
  },
  {
   "cell_type": "code",
   "execution_count": null,
   "metadata": {},
   "outputs": [],
   "source": [
    "mtokenize(\"hansco this\")"
   ]
  },
  {
   "cell_type": "code",
   "execution_count": null,
   "metadata": {},
   "outputs": [],
   "source": [
    "mtokenize(\"hansco this\")[0].shape"
   ]
  },
  {
   "cell_type": "code",
   "execution_count": null,
   "metadata": {},
   "outputs": [],
   "source": [
    "%pip freeze > requirements.txt"
   ]
  },
  {
   "cell_type": "code",
   "execution_count": null,
   "metadata": {},
   "outputs": [],
   "source": [
    "%pip install lazypredict\n"
   ]
  },
  {
   "cell_type": "code",
   "execution_count": null,
   "metadata": {},
   "outputs": [],
   "source": []
  }
 ],
 "metadata": {
  "kernelspec": {
   "display_name": "tfodv2",
   "language": "python",
   "name": "python3"
  },
  "language_info": {
   "codemirror_mode": {
    "name": "ipython",
    "version": 3
   },
   "file_extension": ".py",
   "mimetype": "text/x-python",
   "name": "python",
   "nbconvert_exporter": "python",
   "pygments_lexer": "ipython3",
   "version": "3.7.16"
  },
  "orig_nbformat": 4
 },
 "nbformat": 4,
 "nbformat_minor": 2
}
