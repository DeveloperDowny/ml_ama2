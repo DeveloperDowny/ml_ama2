{
 "cells": [
  {
   "cell_type": "code",
   "execution_count": 1,
   "metadata": {},
   "outputs": [],
   "source": [
    "should_drop_na_desc = True\n",
    "should_drop_na_bull = True\n",
    "should_pick_random = True\n",
    "num_random = 5000"
   ]
  },
  {
   "cell_type": "code",
   "execution_count": 2,
   "metadata": {},
   "outputs": [],
   "source": [
    "import tensorflow as tf"
   ]
  },
  {
   "cell_type": "code",
   "execution_count": 3,
   "metadata": {},
   "outputs": [],
   "source": [
    "import numpy as np\n",
    "import pandas as pd\n",
    "import matplotlib.pyplot as plt"
   ]
  },
  {
   "cell_type": "code",
   "execution_count": 4,
   "metadata": {},
   "outputs": [],
   "source": [
    "import dfhelper as dfh"
   ]
  },
  {
   "cell_type": "code",
   "execution_count": 5,
   "metadata": {},
   "outputs": [
    {
     "data": {
      "text/plain": [
       "[PhysicalDevice(name='/physical_device:GPU:0', device_type='GPU')]"
      ]
     },
     "execution_count": 5,
     "metadata": {},
     "output_type": "execute_result"
    }
   ],
   "source": [
    "tf.config.list_physical_devices('GPU')"
   ]
  },
  {
   "cell_type": "code",
   "execution_count": 6,
   "metadata": {},
   "outputs": [],
   "source": [
    "train_df = pd.read_csv('dataset/train.csv')"
   ]
  },
  {
   "cell_type": "code",
   "execution_count": 7,
   "metadata": {},
   "outputs": [
    {
     "name": "stdout",
     "output_type": "stream",
     "text": [
      "0 PRODUCT_ID | 1 TITLE | 2 BULLET_POINTS | 3 DESCRIPTION | 4 PRODUCT_TYPE_ID | 5 PRODUCT_LENGTH | "
     ]
    }
   ],
   "source": [
    "dfh.printColNames(train_df)"
   ]
  },
  {
   "cell_type": "code",
   "execution_count": 8,
   "metadata": {},
   "outputs": [
    {
     "data": {
      "text/plain": [
       "'PRODUCT_LENGTH'"
      ]
     },
     "execution_count": 8,
     "metadata": {},
     "output_type": "execute_result"
    }
   ],
   "source": [
    "marr = train_df.columns.values\n",
    "id = marr[0]\n",
    "title = marr[1]\n",
    "bull_pt = marr[2]\n",
    "desc = marr[3]\n",
    "prod_type_id = marr[4]\n",
    "prod_len = marr[5]\n",
    "prod_len"
   ]
  },
  {
   "cell_type": "code",
   "execution_count": 9,
   "metadata": {},
   "outputs": [
    {
     "data": {
      "text/html": [
       "<div>\n",
       "<style scoped>\n",
       "    .dataframe tbody tr th:only-of-type {\n",
       "        vertical-align: middle;\n",
       "    }\n",
       "\n",
       "    .dataframe tbody tr th {\n",
       "        vertical-align: top;\n",
       "    }\n",
       "\n",
       "    .dataframe thead th {\n",
       "        text-align: right;\n",
       "    }\n",
       "</style>\n",
       "<table border=\"1\" class=\"dataframe\">\n",
       "  <thead>\n",
       "    <tr style=\"text-align: right;\">\n",
       "      <th></th>\n",
       "      <th>PRODUCT_ID</th>\n",
       "      <th>TITLE</th>\n",
       "      <th>BULLET_POINTS</th>\n",
       "      <th>DESCRIPTION</th>\n",
       "      <th>PRODUCT_TYPE_ID</th>\n",
       "      <th>PRODUCT_LENGTH</th>\n",
       "    </tr>\n",
       "  </thead>\n",
       "  <tbody>\n",
       "    <tr>\n",
       "      <th>0</th>\n",
       "      <td>1925202</td>\n",
       "      <td>ArtzFolio Tulip Flowers Blackout Curtain for D...</td>\n",
       "      <td>[LUXURIOUS &amp; APPEALING: Beautiful custom-made ...</td>\n",
       "      <td>NaN</td>\n",
       "      <td>1650</td>\n",
       "      <td>2125.980000</td>\n",
       "    </tr>\n",
       "    <tr>\n",
       "      <th>1</th>\n",
       "      <td>2673191</td>\n",
       "      <td>Marks &amp; Spencer Girls' Pyjama Sets T86_2561C_N...</td>\n",
       "      <td>[Harry Potter Hedwig Pyjamas (6-16 Yrs),100% c...</td>\n",
       "      <td>NaN</td>\n",
       "      <td>2755</td>\n",
       "      <td>393.700000</td>\n",
       "    </tr>\n",
       "    <tr>\n",
       "      <th>2</th>\n",
       "      <td>2765088</td>\n",
       "      <td>PRIKNIK Horn Red Electric Air Horn Compressor ...</td>\n",
       "      <td>[Loud Dual Tone Trumpet Horn, Compatible With ...</td>\n",
       "      <td>Specifications: Color: Red, Material: Aluminiu...</td>\n",
       "      <td>7537</td>\n",
       "      <td>748.031495</td>\n",
       "    </tr>\n",
       "    <tr>\n",
       "      <th>3</th>\n",
       "      <td>1594019</td>\n",
       "      <td>ALISHAH Women's Cotton Ankle Length Leggings C...</td>\n",
       "      <td>[Made By 95%cotton and 5% Lycra which gives yo...</td>\n",
       "      <td>AISHAH Women's Lycra Cotton Ankel Leggings. Br...</td>\n",
       "      <td>2996</td>\n",
       "      <td>787.401574</td>\n",
       "    </tr>\n",
       "    <tr>\n",
       "      <th>4</th>\n",
       "      <td>283658</td>\n",
       "      <td>The United Empire Loyalists: A Chronicle of th...</td>\n",
       "      <td>NaN</td>\n",
       "      <td>NaN</td>\n",
       "      <td>6112</td>\n",
       "      <td>598.424000</td>\n",
       "    </tr>\n",
       "  </tbody>\n",
       "</table>\n",
       "</div>"
      ],
      "text/plain": [
       "   PRODUCT_ID                                              TITLE  \\\n",
       "0     1925202  ArtzFolio Tulip Flowers Blackout Curtain for D...   \n",
       "1     2673191  Marks & Spencer Girls' Pyjama Sets T86_2561C_N...   \n",
       "2     2765088  PRIKNIK Horn Red Electric Air Horn Compressor ...   \n",
       "3     1594019  ALISHAH Women's Cotton Ankle Length Leggings C...   \n",
       "4      283658  The United Empire Loyalists: A Chronicle of th...   \n",
       "\n",
       "                                       BULLET_POINTS  \\\n",
       "0  [LUXURIOUS & APPEALING: Beautiful custom-made ...   \n",
       "1  [Harry Potter Hedwig Pyjamas (6-16 Yrs),100% c...   \n",
       "2  [Loud Dual Tone Trumpet Horn, Compatible With ...   \n",
       "3  [Made By 95%cotton and 5% Lycra which gives yo...   \n",
       "4                                                NaN   \n",
       "\n",
       "                                         DESCRIPTION  PRODUCT_TYPE_ID  \\\n",
       "0                                                NaN             1650   \n",
       "1                                                NaN             2755   \n",
       "2  Specifications: Color: Red, Material: Aluminiu...             7537   \n",
       "3  AISHAH Women's Lycra Cotton Ankel Leggings. Br...             2996   \n",
       "4                                                NaN             6112   \n",
       "\n",
       "   PRODUCT_LENGTH  \n",
       "0     2125.980000  \n",
       "1      393.700000  \n",
       "2      748.031495  \n",
       "3      787.401574  \n",
       "4      598.424000  "
      ]
     },
     "execution_count": 9,
     "metadata": {},
     "output_type": "execute_result"
    }
   ],
   "source": [
    "train_df.head()"
   ]
  },
  {
   "cell_type": "code",
   "execution_count": 10,
   "metadata": {},
   "outputs": [
    {
     "data": {
      "text/plain": [
       "(2249698, 6)"
      ]
     },
     "execution_count": 10,
     "metadata": {},
     "output_type": "execute_result"
    }
   ],
   "source": [
    "train_df.shape"
   ]
  },
  {
   "cell_type": "code",
   "execution_count": 11,
   "metadata": {},
   "outputs": [],
   "source": [
    "if (should_drop_na_desc):\n",
    "    train_df = train_df.dropna(subset=[desc])"
   ]
  },
  {
   "cell_type": "code",
   "execution_count": 12,
   "metadata": {},
   "outputs": [],
   "source": [
    "if (should_drop_na_bull):\n",
    "    train_df = train_df.dropna(subset=[bull_pt])"
   ]
  },
  {
   "cell_type": "code",
   "execution_count": 13,
   "metadata": {},
   "outputs": [],
   "source": [
    "if (should_pick_random):\n",
    "    train_df = train_df.sample(n=num_random)"
   ]
  },
  {
   "cell_type": "code",
   "execution_count": 14,
   "metadata": {},
   "outputs": [
    {
     "data": {
      "text/plain": [
       "(5000, 6)"
      ]
     },
     "execution_count": 14,
     "metadata": {},
     "output_type": "execute_result"
    }
   ],
   "source": [
    "train_df.shape"
   ]
  },
  {
   "cell_type": "code",
   "execution_count": 15,
   "metadata": {},
   "outputs": [
    {
     "data": {
      "text/plain": [
       "(5000, 6)"
      ]
     },
     "execution_count": 15,
     "metadata": {},
     "output_type": "execute_result"
    }
   ],
   "source": [
    "train_df.shape"
   ]
  },
  {
   "cell_type": "code",
   "execution_count": 16,
   "metadata": {},
   "outputs": [
    {
     "name": "stdout",
     "output_type": "stream",
     "text": [
      "PRODUCT_ID         0\n",
      "TITLE              0\n",
      "BULLET_POINTS      0\n",
      "DESCRIPTION        0\n",
      "PRODUCT_TYPE_ID    0\n",
      "PRODUCT_LENGTH     0\n",
      "dtype: int64\n"
     ]
    }
   ],
   "source": [
    "dict_na = train_df.isna().sum()\n",
    "num_na_desc = train_df.isna().sum()[desc]\n",
    "print(dict_na)"
   ]
  },
  {
   "cell_type": "code",
   "execution_count": 17,
   "metadata": {},
   "outputs": [],
   "source": [
    "train_df = train_df.drop(columns=[id])"
   ]
  },
  {
   "cell_type": "code",
   "execution_count": 18,
   "metadata": {},
   "outputs": [],
   "source": [
    "# Not adding this to pickel file\n",
    "\n",
    "# # one hot encoding for product type id\n",
    "# train_df = pd.get_dummies(train_df, columns=[prod_type_id])"
   ]
  },
  {
   "cell_type": "markdown",
   "metadata": {},
   "source": []
  },
  {
   "cell_type": "code",
   "execution_count": 19,
   "metadata": {},
   "outputs": [],
   "source": [
    "# pickel the dataframe\n",
    "train_df.to_pickle('dataset/train_df_v2.pkl')"
   ]
  },
  {
   "cell_type": "code",
   "execution_count": 20,
   "metadata": {},
   "outputs": [
    {
     "data": {
      "text/plain": [
       "(5000, 5)"
      ]
     },
     "execution_count": 20,
     "metadata": {},
     "output_type": "execute_result"
    }
   ],
   "source": [
    "train_df.shape"
   ]
  },
  {
   "cell_type": "code",
   "execution_count": null,
   "metadata": {},
   "outputs": [],
   "source": []
  },
  {
   "cell_type": "code",
   "execution_count": 21,
   "metadata": {},
   "outputs": [
    {
     "data": {
      "text/html": [
       "<div>\n",
       "<style scoped>\n",
       "    .dataframe tbody tr th:only-of-type {\n",
       "        vertical-align: middle;\n",
       "    }\n",
       "\n",
       "    .dataframe tbody tr th {\n",
       "        vertical-align: top;\n",
       "    }\n",
       "\n",
       "    .dataframe thead th {\n",
       "        text-align: right;\n",
       "    }\n",
       "</style>\n",
       "<table border=\"1\" class=\"dataframe\">\n",
       "  <thead>\n",
       "    <tr style=\"text-align: right;\">\n",
       "      <th></th>\n",
       "      <th>TITLE</th>\n",
       "      <th>BULLET_POINTS</th>\n",
       "      <th>DESCRIPTION</th>\n",
       "      <th>PRODUCT_TYPE_ID</th>\n",
       "      <th>PRODUCT_LENGTH</th>\n",
       "    </tr>\n",
       "  </thead>\n",
       "  <tbody>\n",
       "    <tr>\n",
       "      <th>1896156</th>\n",
       "      <td>Bildos 3Ply Non-Woven Fabric Disposable Surgic...</td>\n",
       "      <td>[Care Instructions: Non Washable,Mask Has 3 La...</td>\n",
       "      <td>Face masks may also be called isolation, laser...</td>\n",
       "      <td>12591</td>\n",
       "      <td>669.291338</td>\n",
       "    </tr>\n",
       "    <tr>\n",
       "      <th>1715725</th>\n",
       "      <td>Negaor 10 PCS Interior Door Card Trim Panel Re...</td>\n",
       "      <td>[* Interior door card trim panel clips fastene...</td>\n",
       "      <td>Please check the Manufacturer Part Number and ...</td>\n",
       "      <td>7305</td>\n",
       "      <td>314.960630</td>\n",
       "    </tr>\n",
       "    <tr>\n",
       "      <th>229576</th>\n",
       "      <td>Madden Girl Women's Domain Boot, Black Fabric,...</td>\n",
       "      <td>Chukka-inspired boot with four-eye lacing syst...</td>\n",
       "      <td>Suede wedge laceup bootie</td>\n",
       "      <td>3293</td>\n",
       "      <td>500.000000</td>\n",
       "    </tr>\n",
       "    <tr>\n",
       "      <th>670308</th>\n",
       "      <td>Patel's Velocity perfume (60ml)(pack of 1)</td>\n",
       "      <td>[Long Lasting Fragrances,Made From Real and Na...</td>\n",
       "      <td>Patel's Velocity Perfume is Long Lasting Perfu...</td>\n",
       "      <td>254</td>\n",
       "      <td>157.480315</td>\n",
       "    </tr>\n",
       "    <tr>\n",
       "      <th>945067</th>\n",
       "      <td>WorldCare® 1000W Car Power ply Output Socket U...</td>\n",
       "      <td>[New &amp; Imported Item,Delivers within 3 to 5 we...</td>\n",
       "      <td>WorldCare 1000W Car Power ply Output Socket US...</td>\n",
       "      <td>2087</td>\n",
       "      <td>590.551180</td>\n",
       "    </tr>\n",
       "  </tbody>\n",
       "</table>\n",
       "</div>"
      ],
      "text/plain": [
       "                                                     TITLE  \\\n",
       "1896156  Bildos 3Ply Non-Woven Fabric Disposable Surgic...   \n",
       "1715725  Negaor 10 PCS Interior Door Card Trim Panel Re...   \n",
       "229576   Madden Girl Women's Domain Boot, Black Fabric,...   \n",
       "670308          Patel's Velocity perfume (60ml)(pack of 1)   \n",
       "945067   WorldCare® 1000W Car Power ply Output Socket U...   \n",
       "\n",
       "                                             BULLET_POINTS  \\\n",
       "1896156  [Care Instructions: Non Washable,Mask Has 3 La...   \n",
       "1715725  [* Interior door card trim panel clips fastene...   \n",
       "229576   Chukka-inspired boot with four-eye lacing syst...   \n",
       "670308   [Long Lasting Fragrances,Made From Real and Na...   \n",
       "945067   [New & Imported Item,Delivers within 3 to 5 we...   \n",
       "\n",
       "                                               DESCRIPTION  PRODUCT_TYPE_ID  \\\n",
       "1896156  Face masks may also be called isolation, laser...            12591   \n",
       "1715725  Please check the Manufacturer Part Number and ...             7305   \n",
       "229576                           Suede wedge laceup bootie             3293   \n",
       "670308   Patel's Velocity Perfume is Long Lasting Perfu...              254   \n",
       "945067   WorldCare 1000W Car Power ply Output Socket US...             2087   \n",
       "\n",
       "         PRODUCT_LENGTH  \n",
       "1896156      669.291338  \n",
       "1715725      314.960630  \n",
       "229576       500.000000  \n",
       "670308       157.480315  \n",
       "945067       590.551180  "
      ]
     },
     "execution_count": 21,
     "metadata": {},
     "output_type": "execute_result"
    }
   ],
   "source": [
    "train_df.head()\n",
    "# todo save the preprocessed data to a csv file []\n",
    "\n"
   ]
  },
  {
   "cell_type": "code",
   "execution_count": 22,
   "metadata": {},
   "outputs": [],
   "source": [
    "# train_df.to_csv('dataset/train_preprocessed_v1.csv', index=False)"
   ]
  },
  {
   "cell_type": "code",
   "execution_count": 23,
   "metadata": {},
   "outputs": [],
   "source": [
    "# %%timeit -n 10\n",
    "# # prep_train_df = pd.read_csv('dataset/train_preprocessed_v1.csv')\n",
    "# prep_train_df = train_df.copy()\n",
    "# prep_train_df.head()\n",
    "# # todo remove product id column and save again []\n",
    "# prep_train_df = prep_train_df.drop(columns=[id])\n",
    "# # prep_train_df.to_csv('dataset/train_preprocessed_v2.csv', index=False)\n",
    "\n",
    "# # todo do the above thing with gpu df []\n",
    "\n",
    "# prep_train_df.head()\n"
   ]
  },
  {
   "cell_type": "code",
   "execution_count": 24,
   "metadata": {},
   "outputs": [],
   "source": [
    "# %%timeit -n 10\n",
    "# prep_train_df = pd.read_csv('dataset/train_preprocessed_v1.csv')\n",
    "# prep_train_df.head()\n",
    "# # todo remove product id column and save again []\n",
    "# prep_train_df = prep_train_df.drop(columns=[id])\n",
    "# prep_train_df.to_csv('dataset/train_preprocessed_v2.csv', index=False)\n",
    "\n",
    "# # todo do the above thing with gpu df []\n"
   ]
  },
  {
   "cell_type": "code",
   "execution_count": 25,
   "metadata": {},
   "outputs": [
    {
     "name": "stdout",
     "output_type": "stream",
     "text": [
      "1092317\n",
      "0.48553939239844635\n"
     ]
    }
   ],
   "source": [
    "rem = 2249698 - 1157381\n",
    "print(rem)\n",
    "print(rem/2249698) # 48.5% of the data is missing in the description column. So, we will loose half of the data if we remove the rows with missing values.\n",
    "# But even after removing, we will have 1.1 million rows. So, we can afford to remove the rows with missing values."
   ]
  },
  {
   "cell_type": "code",
   "execution_count": 26,
   "metadata": {},
   "outputs": [
    {
     "name": "stdout",
     "output_type": "stream",
     "text": [
      "314.9606296\n",
      "Provides excellent protection for your Phone. Luxurious Look Lightweight and stylish case. Slim fit snap-on case allows easy access to all buttons, controls and ports\n",
      "[Material : Premium Class Silicone Back Cover.,Printed Silicon Back Cover.,Soft & Flexible Back Cover.,Camera Protection Bump.Professional Transparent Case.,Matte finish high definition printing.]\n",
      "YUPHORIA DiL-Desgin Designer Printed Soft Mobile Back Cover for Oppo F21 Pro 5G\n"
     ]
    },
    {
     "data": {
      "text/plain": [
       "'YUPHORIA DiL-Desgin Designer Printed Soft Mobile Back Cover for Oppo F21 Pro 5G'"
      ]
     },
     "execution_count": 26,
     "metadata": {},
     "output_type": "execute_result"
    }
   ],
   "source": [
    "sample_values = train_df.iloc(0)\n",
    "ind = 5\n",
    "print(sample_values[ind][prod_len])\n",
    "# print(sample_values[0][prod_type_id])\n",
    "print(sample_values[ind][desc])\n",
    "print(sample_values[ind][bull_pt])\n",
    "print(sample_values[ind][title])\n",
    "# print(sample_values[ind][id])\n",
    "\n",
    "sample_values[ind][title]\n",
    "\n",
    "# bullet points won't be of constant length\n",
    "# so we'll have to pad them maybe?\n",
    "# or maybe we can just use the first one or the most prominent one"
   ]
  },
  {
   "cell_type": "code",
   "execution_count": 27,
   "metadata": {},
   "outputs": [],
   "source": [
    "# first lower case then check if contains <html>\n",
    "# if yes, then remove it"
   ]
  },
  {
   "cell_type": "code",
   "execution_count": 28,
   "metadata": {},
   "outputs": [],
   "source": [
    "import pickle"
   ]
  },
  {
   "cell_type": "code",
   "execution_count": 29,
   "metadata": {},
   "outputs": [],
   "source": [
    "pre_df = pd.read_pickle('dataset/train_df.pkl')"
   ]
  },
  {
   "cell_type": "code",
   "execution_count": 30,
   "metadata": {},
   "outputs": [
    {
     "data": {
      "text/html": [
       "<div>\n",
       "<style scoped>\n",
       "    .dataframe tbody tr th:only-of-type {\n",
       "        vertical-align: middle;\n",
       "    }\n",
       "\n",
       "    .dataframe tbody tr th {\n",
       "        vertical-align: top;\n",
       "    }\n",
       "\n",
       "    .dataframe thead th {\n",
       "        text-align: right;\n",
       "    }\n",
       "</style>\n",
       "<table border=\"1\" class=\"dataframe\">\n",
       "  <thead>\n",
       "    <tr style=\"text-align: right;\">\n",
       "      <th></th>\n",
       "      <th>TITLE</th>\n",
       "      <th>BULLET_POINTS</th>\n",
       "      <th>DESCRIPTION</th>\n",
       "      <th>PRODUCT_LENGTH</th>\n",
       "      <th>PRODUCT_TYPE_ID_0</th>\n",
       "      <th>PRODUCT_TYPE_ID_1</th>\n",
       "      <th>PRODUCT_TYPE_ID_2</th>\n",
       "      <th>PRODUCT_TYPE_ID_3</th>\n",
       "      <th>PRODUCT_TYPE_ID_4</th>\n",
       "      <th>PRODUCT_TYPE_ID_5</th>\n",
       "      <th>...</th>\n",
       "      <th>PRODUCT_TYPE_ID_13410</th>\n",
       "      <th>PRODUCT_TYPE_ID_13411</th>\n",
       "      <th>PRODUCT_TYPE_ID_13413</th>\n",
       "      <th>PRODUCT_TYPE_ID_13414</th>\n",
       "      <th>PRODUCT_TYPE_ID_13415</th>\n",
       "      <th>PRODUCT_TYPE_ID_13416</th>\n",
       "      <th>PRODUCT_TYPE_ID_13417</th>\n",
       "      <th>PRODUCT_TYPE_ID_13418</th>\n",
       "      <th>PRODUCT_TYPE_ID_13419</th>\n",
       "      <th>PRODUCT_TYPE_ID_13420</th>\n",
       "    </tr>\n",
       "  </thead>\n",
       "  <tbody>\n",
       "    <tr>\n",
       "      <th>2</th>\n",
       "      <td>PRIKNIK Horn Red Electric Air Horn Compressor ...</td>\n",
       "      <td>[Loud Dual Tone Trumpet Horn, Compatible With ...</td>\n",
       "      <td>Specifications: Color: Red, Material: Aluminiu...</td>\n",
       "      <td>748.031495</td>\n",
       "      <td>0</td>\n",
       "      <td>0</td>\n",
       "      <td>0</td>\n",
       "      <td>0</td>\n",
       "      <td>0</td>\n",
       "      <td>0</td>\n",
       "      <td>...</td>\n",
       "      <td>0</td>\n",
       "      <td>0</td>\n",
       "      <td>0</td>\n",
       "      <td>0</td>\n",
       "      <td>0</td>\n",
       "      <td>0</td>\n",
       "      <td>0</td>\n",
       "      <td>0</td>\n",
       "      <td>0</td>\n",
       "      <td>0</td>\n",
       "    </tr>\n",
       "    <tr>\n",
       "      <th>3</th>\n",
       "      <td>ALISHAH Women's Cotton Ankle Length Leggings C...</td>\n",
       "      <td>[Made By 95%cotton and 5% Lycra which gives yo...</td>\n",
       "      <td>AISHAH Women's Lycra Cotton Ankel Leggings. Br...</td>\n",
       "      <td>787.401574</td>\n",
       "      <td>0</td>\n",
       "      <td>0</td>\n",
       "      <td>0</td>\n",
       "      <td>0</td>\n",
       "      <td>0</td>\n",
       "      <td>0</td>\n",
       "      <td>...</td>\n",
       "      <td>0</td>\n",
       "      <td>0</td>\n",
       "      <td>0</td>\n",
       "      <td>0</td>\n",
       "      <td>0</td>\n",
       "      <td>0</td>\n",
       "      <td>0</td>\n",
       "      <td>0</td>\n",
       "      <td>0</td>\n",
       "      <td>0</td>\n",
       "    </tr>\n",
       "    <tr>\n",
       "      <th>5</th>\n",
       "      <td>HINS Metal Bucket Shape Plant Pot for Indoor &amp;...</td>\n",
       "      <td>[Simple and elegant, great for displaying indo...</td>\n",
       "      <td>HINS Brings you the most Elegant Looking Pot w...</td>\n",
       "      <td>950.000000</td>\n",
       "      <td>0</td>\n",
       "      <td>0</td>\n",
       "      <td>0</td>\n",
       "      <td>0</td>\n",
       "      <td>0</td>\n",
       "      <td>0</td>\n",
       "      <td>...</td>\n",
       "      <td>0</td>\n",
       "      <td>0</td>\n",
       "      <td>0</td>\n",
       "      <td>0</td>\n",
       "      <td>0</td>\n",
       "      <td>0</td>\n",
       "      <td>0</td>\n",
       "      <td>0</td>\n",
       "      <td>0</td>\n",
       "      <td>0</td>\n",
       "    </tr>\n",
       "    <tr>\n",
       "      <th>7</th>\n",
       "      <td>Delavala Self Adhesive Kitchen Backsplash Wall...</td>\n",
       "      <td>[HIGH QUALITY PVC MATERIAL: The kitchen alumin...</td>\n",
       "      <td>&lt;p&gt;&lt;strong&gt;Aluminum Foil Stickers-good kitchen...</td>\n",
       "      <td>984.251967</td>\n",
       "      <td>0</td>\n",
       "      <td>0</td>\n",
       "      <td>0</td>\n",
       "      <td>0</td>\n",
       "      <td>0</td>\n",
       "      <td>0</td>\n",
       "      <td>...</td>\n",
       "      <td>0</td>\n",
       "      <td>0</td>\n",
       "      <td>0</td>\n",
       "      <td>0</td>\n",
       "      <td>0</td>\n",
       "      <td>0</td>\n",
       "      <td>0</td>\n",
       "      <td>0</td>\n",
       "      <td>0</td>\n",
       "      <td>0</td>\n",
       "    </tr>\n",
       "    <tr>\n",
       "      <th>9</th>\n",
       "      <td>Hexwell Essential oil for Home Fragrance Oil A...</td>\n",
       "      <td>[100% Pure And Natural Essential Oil Or Fragra...</td>\n",
       "      <td>Transform your home, workplace or hotel room i...</td>\n",
       "      <td>393.700787</td>\n",
       "      <td>0</td>\n",
       "      <td>0</td>\n",
       "      <td>0</td>\n",
       "      <td>0</td>\n",
       "      <td>0</td>\n",
       "      <td>0</td>\n",
       "      <td>...</td>\n",
       "      <td>0</td>\n",
       "      <td>0</td>\n",
       "      <td>0</td>\n",
       "      <td>0</td>\n",
       "      <td>0</td>\n",
       "      <td>0</td>\n",
       "      <td>0</td>\n",
       "      <td>0</td>\n",
       "      <td>0</td>\n",
       "      <td>0</td>\n",
       "    </tr>\n",
       "  </tbody>\n",
       "</table>\n",
       "<p>5 rows × 11125 columns</p>\n",
       "</div>"
      ],
      "text/plain": [
       "                                               TITLE  \\\n",
       "2  PRIKNIK Horn Red Electric Air Horn Compressor ...   \n",
       "3  ALISHAH Women's Cotton Ankle Length Leggings C...   \n",
       "5  HINS Metal Bucket Shape Plant Pot for Indoor &...   \n",
       "7  Delavala Self Adhesive Kitchen Backsplash Wall...   \n",
       "9  Hexwell Essential oil for Home Fragrance Oil A...   \n",
       "\n",
       "                                       BULLET_POINTS  \\\n",
       "2  [Loud Dual Tone Trumpet Horn, Compatible With ...   \n",
       "3  [Made By 95%cotton and 5% Lycra which gives yo...   \n",
       "5  [Simple and elegant, great for displaying indo...   \n",
       "7  [HIGH QUALITY PVC MATERIAL: The kitchen alumin...   \n",
       "9  [100% Pure And Natural Essential Oil Or Fragra...   \n",
       "\n",
       "                                         DESCRIPTION  PRODUCT_LENGTH  \\\n",
       "2  Specifications: Color: Red, Material: Aluminiu...      748.031495   \n",
       "3  AISHAH Women's Lycra Cotton Ankel Leggings. Br...      787.401574   \n",
       "5  HINS Brings you the most Elegant Looking Pot w...      950.000000   \n",
       "7  <p><strong>Aluminum Foil Stickers-good kitchen...      984.251967   \n",
       "9  Transform your home, workplace or hotel room i...      393.700787   \n",
       "\n",
       "   PRODUCT_TYPE_ID_0  PRODUCT_TYPE_ID_1  PRODUCT_TYPE_ID_2  PRODUCT_TYPE_ID_3  \\\n",
       "2                  0                  0                  0                  0   \n",
       "3                  0                  0                  0                  0   \n",
       "5                  0                  0                  0                  0   \n",
       "7                  0                  0                  0                  0   \n",
       "9                  0                  0                  0                  0   \n",
       "\n",
       "   PRODUCT_TYPE_ID_4  PRODUCT_TYPE_ID_5  ...  PRODUCT_TYPE_ID_13410  \\\n",
       "2                  0                  0  ...                      0   \n",
       "3                  0                  0  ...                      0   \n",
       "5                  0                  0  ...                      0   \n",
       "7                  0                  0  ...                      0   \n",
       "9                  0                  0  ...                      0   \n",
       "\n",
       "   PRODUCT_TYPE_ID_13411  PRODUCT_TYPE_ID_13413  PRODUCT_TYPE_ID_13414  \\\n",
       "2                      0                      0                      0   \n",
       "3                      0                      0                      0   \n",
       "5                      0                      0                      0   \n",
       "7                      0                      0                      0   \n",
       "9                      0                      0                      0   \n",
       "\n",
       "   PRODUCT_TYPE_ID_13415  PRODUCT_TYPE_ID_13416  PRODUCT_TYPE_ID_13417  \\\n",
       "2                      0                      0                      0   \n",
       "3                      0                      0                      0   \n",
       "5                      0                      0                      0   \n",
       "7                      0                      0                      0   \n",
       "9                      0                      0                      0   \n",
       "\n",
       "   PRODUCT_TYPE_ID_13418  PRODUCT_TYPE_ID_13419  PRODUCT_TYPE_ID_13420  \n",
       "2                      0                      0                      0  \n",
       "3                      0                      0                      0  \n",
       "5                      0                      0                      0  \n",
       "7                      0                      0                      0  \n",
       "9                      0                      0                      0  \n",
       "\n",
       "[5 rows x 11125 columns]"
      ]
     },
     "execution_count": 30,
     "metadata": {},
     "output_type": "execute_result"
    }
   ],
   "source": [
    "pre_df.head()"
   ]
  },
  {
   "cell_type": "code",
   "execution_count": 31,
   "metadata": {},
   "outputs": [
    {
     "data": {
      "text/plain": [
       "(1038460, 11125)"
      ]
     },
     "execution_count": 31,
     "metadata": {},
     "output_type": "execute_result"
    }
   ],
   "source": [
    "pre_df.shape"
   ]
  },
  {
   "cell_type": "code",
   "execution_count": null,
   "metadata": {},
   "outputs": [],
   "source": []
  }
 ],
 "metadata": {
  "kernelspec": {
   "display_name": "tfodv2",
   "language": "python",
   "name": "python3"
  },
  "language_info": {
   "codemirror_mode": {
    "name": "ipython",
    "version": 3
   },
   "file_extension": ".py",
   "mimetype": "text/x-python",
   "name": "python",
   "nbconvert_exporter": "python",
   "pygments_lexer": "ipython3",
   "version": "3.7.16"
  },
  "orig_nbformat": 4
 },
 "nbformat": 4,
 "nbformat_minor": 2
}
